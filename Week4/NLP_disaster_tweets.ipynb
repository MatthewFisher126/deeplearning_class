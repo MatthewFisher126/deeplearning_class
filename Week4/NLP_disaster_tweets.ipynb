{
 "cells": [
  {
   "cell_type": "markdown",
   "id": "e17bf5ba",
   "metadata": {
    "papermill": {
     "duration": 0.014907,
     "end_time": "2024-04-16T21:59:40.526235",
     "exception": false,
     "start_time": "2024-04-16T21:59:40.511328",
     "status": "completed"
    },
    "tags": []
   },
   "source": [
    "# Disaster tweet analysis\n",
    "\n",
    "This notebook will look at comparing a few different models to predict if tweets are talking about a real disaster or not. The data is from kaggle (https://www.kaggle.com/c/nlp-getting-started/overview).\n",
    "\n",
    "For example, a tweet might say \"on the plus side look at the sky last night it was ablaze\". The word ablaze could mean there is a disaster or in this case the sky was colorful, so no disaster. We want to try and train our models to that they can distinguish the real meaning of the tweet. \n",
    "\n",
    "The models I will be comparing are different recurrent neural networks, specifically long short-term memory and gated recurrent unit models. I will then try to optimize a few hyperparameters or add already built embeddings to try and get a better model. "
   ]
  },
  {
   "cell_type": "code",
   "execution_count": 1,
   "id": "3be0e0a4",
   "metadata": {
    "_cell_guid": "b1076dfc-b9ad-4769-8c92-a6c4dae69d19",
    "_uuid": "8f2839f25d086af736a60e9eeb907d3b93b6e0e5",
    "execution": {
     "iopub.execute_input": "2024-04-16T21:59:40.557965Z",
     "iopub.status.busy": "2024-04-16T21:59:40.557148Z",
     "iopub.status.idle": "2024-04-16T22:00:10.682771Z",
     "shell.execute_reply": "2024-04-16T22:00:10.681392Z"
    },
    "papermill": {
     "duration": 30.145231,
     "end_time": "2024-04-16T22:00:10.685976",
     "exception": false,
     "start_time": "2024-04-16T21:59:40.540745",
     "status": "completed"
    },
    "tags": []
   },
   "outputs": [
    {
     "name": "stderr",
     "output_type": "stream",
     "text": [
      "2024-04-16 21:59:59.430684: E external/local_xla/xla/stream_executor/cuda/cuda_dnn.cc:9261] Unable to register cuDNN factory: Attempting to register factory for plugin cuDNN when one has already been registered\n",
      "2024-04-16 21:59:59.430807: E external/local_xla/xla/stream_executor/cuda/cuda_fft.cc:607] Unable to register cuFFT factory: Attempting to register factory for plugin cuFFT when one has already been registered\n",
      "2024-04-16 21:59:59.571261: E external/local_xla/xla/stream_executor/cuda/cuda_blas.cc:1515] Unable to register cuBLAS factory: Attempting to register factory for plugin cuBLAS when one has already been registered\n"
     ]
    }
   ],
   "source": [
    "import numpy as np # linear algebra\n",
    "import pandas as pd # data processing, CSV file I/O (e.g. pd.read_csv)\n",
    "import seaborn as sns\n",
    "import matplotlib.pyplot as plt\n",
    "from sklearn.feature_extraction.text import CountVectorizer\n",
    "from sklearn.model_selection import train_test_split\n",
    "from sklearn.metrics import accuracy_score, confusion_matrix, classification_report\n",
    "\n",
    "import re\n",
    "import nltk\n",
    "import emoji\n",
    "from nltk.corpus import stopwords\n",
    "from gensim.models import Word2Vec\n",
    "\n",
    "import tensorflow as tf\n",
    "from tensorflow import keras\n",
    "from tensorflow.keras.preprocessing.text import Tokenizer\n",
    "from tensorflow.keras import optimizers\n",
    "from tensorflow.keras.models import Sequential\n",
    "from tensorflow.keras.layers import Dense, LSTM, GRU, Embedding, Dropout\n",
    "from keras.preprocessing.sequence import pad_sequences\n",
    "from tensorflow.keras.initializers import Constant\n",
    "from tensorflow.keras.callbacks import EarlyStopping\n"
   ]
  },
  {
   "cell_type": "code",
   "execution_count": 2,
   "id": "593655b0",
   "metadata": {
    "execution": {
     "iopub.execute_input": "2024-04-16T22:00:10.717255Z",
     "iopub.status.busy": "2024-04-16T22:00:10.716567Z",
     "iopub.status.idle": "2024-04-16T22:00:10.786365Z",
     "shell.execute_reply": "2024-04-16T22:00:10.785422Z"
    },
    "papermill": {
     "duration": 0.088255,
     "end_time": "2024-04-16T22:00:10.789211",
     "exception": false,
     "start_time": "2024-04-16T22:00:10.700956",
     "status": "completed"
    },
    "tags": []
   },
   "outputs": [],
   "source": [
    "# Read in the data. \n",
    "solutions = pd.read_csv('/kaggle/input/nlp-getting-started/sample_submission.csv')\n",
    "train = pd.read_csv('/kaggle/input/nlp-getting-started/train.csv')\n",
    "test = pd.read_csv('/kaggle/input/nlp-getting-started/test.csv')"
   ]
  },
  {
   "cell_type": "markdown",
   "id": "21dd60d2",
   "metadata": {
    "papermill": {
     "duration": 0.016737,
     "end_time": "2024-04-16T22:00:10.820668",
     "exception": false,
     "start_time": "2024-04-16T22:00:10.803931",
     "status": "completed"
    },
    "tags": []
   },
   "source": [
    "# Exploratory Data Analysis"
   ]
  },
  {
   "cell_type": "code",
   "execution_count": 3,
   "id": "65b7979b",
   "metadata": {
    "execution": {
     "iopub.execute_input": "2024-04-16T22:00:10.851517Z",
     "iopub.status.busy": "2024-04-16T22:00:10.850710Z",
     "iopub.status.idle": "2024-04-16T22:00:10.895858Z",
     "shell.execute_reply": "2024-04-16T22:00:10.894587Z"
    },
    "papermill": {
     "duration": 0.063133,
     "end_time": "2024-04-16T22:00:10.898315",
     "exception": false,
     "start_time": "2024-04-16T22:00:10.835182",
     "status": "completed"
    },
    "tags": []
   },
   "outputs": [
    {
     "name": "stdout",
     "output_type": "stream",
     "text": [
      "<class 'pandas.core.frame.DataFrame'>\n",
      "RangeIndex: 7613 entries, 0 to 7612\n",
      "Data columns (total 5 columns):\n",
      " #   Column    Non-Null Count  Dtype \n",
      "---  ------    --------------  ----- \n",
      " 0   id        7613 non-null   int64 \n",
      " 1   keyword   7552 non-null   object\n",
      " 2   location  5080 non-null   object\n",
      " 3   text      7613 non-null   object\n",
      " 4   target    7613 non-null   int64 \n",
      "dtypes: int64(2), object(3)\n",
      "memory usage: 297.5+ KB\n"
     ]
    },
    {
     "data": {
      "text/html": [
       "<div>\n",
       "<style scoped>\n",
       "    .dataframe tbody tr th:only-of-type {\n",
       "        vertical-align: middle;\n",
       "    }\n",
       "\n",
       "    .dataframe tbody tr th {\n",
       "        vertical-align: top;\n",
       "    }\n",
       "\n",
       "    .dataframe thead th {\n",
       "        text-align: right;\n",
       "    }\n",
       "</style>\n",
       "<table border=\"1\" class=\"dataframe\">\n",
       "  <thead>\n",
       "    <tr style=\"text-align: right;\">\n",
       "      <th></th>\n",
       "      <th>id</th>\n",
       "      <th>keyword</th>\n",
       "      <th>location</th>\n",
       "      <th>text</th>\n",
       "      <th>target</th>\n",
       "    </tr>\n",
       "  </thead>\n",
       "  <tbody>\n",
       "    <tr>\n",
       "      <th>0</th>\n",
       "      <td>1</td>\n",
       "      <td>NaN</td>\n",
       "      <td>NaN</td>\n",
       "      <td>Our Deeds are the Reason of this #earthquake M...</td>\n",
       "      <td>1</td>\n",
       "    </tr>\n",
       "    <tr>\n",
       "      <th>1</th>\n",
       "      <td>4</td>\n",
       "      <td>NaN</td>\n",
       "      <td>NaN</td>\n",
       "      <td>Forest fire near La Ronge Sask. Canada</td>\n",
       "      <td>1</td>\n",
       "    </tr>\n",
       "    <tr>\n",
       "      <th>2</th>\n",
       "      <td>5</td>\n",
       "      <td>NaN</td>\n",
       "      <td>NaN</td>\n",
       "      <td>All residents asked to 'shelter in place' are ...</td>\n",
       "      <td>1</td>\n",
       "    </tr>\n",
       "    <tr>\n",
       "      <th>3</th>\n",
       "      <td>6</td>\n",
       "      <td>NaN</td>\n",
       "      <td>NaN</td>\n",
       "      <td>13,000 people receive #wildfires evacuation or...</td>\n",
       "      <td>1</td>\n",
       "    </tr>\n",
       "    <tr>\n",
       "      <th>4</th>\n",
       "      <td>7</td>\n",
       "      <td>NaN</td>\n",
       "      <td>NaN</td>\n",
       "      <td>Just got sent this photo from Ruby #Alaska as ...</td>\n",
       "      <td>1</td>\n",
       "    </tr>\n",
       "  </tbody>\n",
       "</table>\n",
       "</div>"
      ],
      "text/plain": [
       "   id keyword location                                               text  \\\n",
       "0   1     NaN      NaN  Our Deeds are the Reason of this #earthquake M...   \n",
       "1   4     NaN      NaN             Forest fire near La Ronge Sask. Canada   \n",
       "2   5     NaN      NaN  All residents asked to 'shelter in place' are ...   \n",
       "3   6     NaN      NaN  13,000 people receive #wildfires evacuation or...   \n",
       "4   7     NaN      NaN  Just got sent this photo from Ruby #Alaska as ...   \n",
       "\n",
       "   target  \n",
       "0       1  \n",
       "1       1  \n",
       "2       1  \n",
       "3       1  \n",
       "4       1  "
      ]
     },
     "execution_count": 3,
     "metadata": {},
     "output_type": "execute_result"
    }
   ],
   "source": [
    "# Look at dimensions and Dtypes for the training data.\n",
    "train.info()\n",
    "\n",
    "# Look at the top 5 rows. \n",
    "train.head()"
   ]
  },
  {
   "cell_type": "markdown",
   "id": "5fb641f7",
   "metadata": {
    "papermill": {
     "duration": 0.014871,
     "end_time": "2024-04-16T22:00:10.928541",
     "exception": false,
     "start_time": "2024-04-16T22:00:10.913670",
     "status": "completed"
    },
    "tags": []
   },
   "source": [
    "In the training data there is 7,613 tweets. There are 5 columns id, keyword, location, text, and target. There are 7,613 tweets, ids, and targets which are non-null. This means that all ids have an actual tweet and target. There are 7,552 keywords so there are a few missing keywords which we might need to try and guess or predict based on the text within the tweet. Additionally, there is 5,080 locations. So, about 2,500 locations are missing. \n",
    "\n",
    "A target of 1 means that there is a real disaster and a target of 0 means that there is not a real disaster. Our goal is to try and predict whether the tweet is talking about a real disaster or not. \n",
    "\n",
    "Overall, the dtypes seem to make sense. "
   ]
  },
  {
   "cell_type": "code",
   "execution_count": 4,
   "id": "f87f7954",
   "metadata": {
    "execution": {
     "iopub.execute_input": "2024-04-16T22:00:10.960188Z",
     "iopub.status.busy": "2024-04-16T22:00:10.959758Z",
     "iopub.status.idle": "2024-04-16T22:00:10.979159Z",
     "shell.execute_reply": "2024-04-16T22:00:10.977956Z"
    },
    "papermill": {
     "duration": 0.039579,
     "end_time": "2024-04-16T22:00:10.982890",
     "exception": false,
     "start_time": "2024-04-16T22:00:10.943311",
     "status": "completed"
    },
    "tags": []
   },
   "outputs": [
    {
     "name": "stdout",
     "output_type": "stream",
     "text": [
      "<class 'pandas.core.frame.DataFrame'>\n",
      "RangeIndex: 3263 entries, 0 to 3262\n",
      "Data columns (total 4 columns):\n",
      " #   Column    Non-Null Count  Dtype \n",
      "---  ------    --------------  ----- \n",
      " 0   id        3263 non-null   int64 \n",
      " 1   keyword   3237 non-null   object\n",
      " 2   location  2158 non-null   object\n",
      " 3   text      3263 non-null   object\n",
      "dtypes: int64(1), object(3)\n",
      "memory usage: 102.1+ KB\n"
     ]
    },
    {
     "data": {
      "text/html": [
       "<div>\n",
       "<style scoped>\n",
       "    .dataframe tbody tr th:only-of-type {\n",
       "        vertical-align: middle;\n",
       "    }\n",
       "\n",
       "    .dataframe tbody tr th {\n",
       "        vertical-align: top;\n",
       "    }\n",
       "\n",
       "    .dataframe thead th {\n",
       "        text-align: right;\n",
       "    }\n",
       "</style>\n",
       "<table border=\"1\" class=\"dataframe\">\n",
       "  <thead>\n",
       "    <tr style=\"text-align: right;\">\n",
       "      <th></th>\n",
       "      <th>id</th>\n",
       "      <th>keyword</th>\n",
       "      <th>location</th>\n",
       "      <th>text</th>\n",
       "    </tr>\n",
       "  </thead>\n",
       "  <tbody>\n",
       "    <tr>\n",
       "      <th>0</th>\n",
       "      <td>0</td>\n",
       "      <td>NaN</td>\n",
       "      <td>NaN</td>\n",
       "      <td>Just happened a terrible car crash</td>\n",
       "    </tr>\n",
       "    <tr>\n",
       "      <th>1</th>\n",
       "      <td>2</td>\n",
       "      <td>NaN</td>\n",
       "      <td>NaN</td>\n",
       "      <td>Heard about #earthquake is different cities, s...</td>\n",
       "    </tr>\n",
       "    <tr>\n",
       "      <th>2</th>\n",
       "      <td>3</td>\n",
       "      <td>NaN</td>\n",
       "      <td>NaN</td>\n",
       "      <td>there is a forest fire at spot pond, geese are...</td>\n",
       "    </tr>\n",
       "    <tr>\n",
       "      <th>3</th>\n",
       "      <td>9</td>\n",
       "      <td>NaN</td>\n",
       "      <td>NaN</td>\n",
       "      <td>Apocalypse lighting. #Spokane #wildfires</td>\n",
       "    </tr>\n",
       "    <tr>\n",
       "      <th>4</th>\n",
       "      <td>11</td>\n",
       "      <td>NaN</td>\n",
       "      <td>NaN</td>\n",
       "      <td>Typhoon Soudelor kills 28 in China and Taiwan</td>\n",
       "    </tr>\n",
       "  </tbody>\n",
       "</table>\n",
       "</div>"
      ],
      "text/plain": [
       "   id keyword location                                               text\n",
       "0   0     NaN      NaN                 Just happened a terrible car crash\n",
       "1   2     NaN      NaN  Heard about #earthquake is different cities, s...\n",
       "2   3     NaN      NaN  there is a forest fire at spot pond, geese are...\n",
       "3   9     NaN      NaN           Apocalypse lighting. #Spokane #wildfires\n",
       "4  11     NaN      NaN      Typhoon Soudelor kills 28 in China and Taiwan"
      ]
     },
     "execution_count": 4,
     "metadata": {},
     "output_type": "execute_result"
    }
   ],
   "source": [
    "# Look at dimensions and Dtypes for the test data.\n",
    "test.info()\n",
    "\n",
    "# Look at the top 5 rows. \n",
    "test.head()"
   ]
  },
  {
   "cell_type": "markdown",
   "id": "e1b6a0aa",
   "metadata": {
    "papermill": {
     "duration": 0.014595,
     "end_time": "2024-04-16T22:00:11.012560",
     "exception": false,
     "start_time": "2024-04-16T22:00:10.997965",
     "status": "completed"
    },
    "tags": []
   },
   "source": [
    "The testing data has 3,263 rows and 4 columns (id, keyword, location, and text). The text column contains the tweet. The ArticleID has a Dtype int64 and Text Dtype is an object."
   ]
  },
  {
   "cell_type": "code",
   "execution_count": 5,
   "id": "70cfaac3",
   "metadata": {
    "execution": {
     "iopub.execute_input": "2024-04-16T22:00:11.044509Z",
     "iopub.status.busy": "2024-04-16T22:00:11.044105Z",
     "iopub.status.idle": "2024-04-16T22:00:11.061920Z",
     "shell.execute_reply": "2024-04-16T22:00:11.060491Z"
    },
    "papermill": {
     "duration": 0.036943,
     "end_time": "2024-04-16T22:00:11.064580",
     "exception": false,
     "start_time": "2024-04-16T22:00:11.027637",
     "status": "completed"
    },
    "tags": []
   },
   "outputs": [
    {
     "name": "stdout",
     "output_type": "stream",
     "text": [
      "                 id      target\n",
      "count   7613.000000  7613.00000\n",
      "mean    5441.934848     0.42966\n",
      "std     3137.116090     0.49506\n",
      "min        1.000000     0.00000\n",
      "25%     2734.000000     0.00000\n",
      "50%     5408.000000     0.00000\n",
      "75%     8146.000000     1.00000\n",
      "max    10873.000000     1.00000\n"
     ]
    }
   ],
   "source": [
    "# Get some summary stats on the training data. \n",
    "print(train.describe())"
   ]
  },
  {
   "cell_type": "markdown",
   "id": "b1180dac",
   "metadata": {
    "papermill": {
     "duration": 0.015434,
     "end_time": "2024-04-16T22:00:11.095487",
     "exception": false,
     "start_time": "2024-04-16T22:00:11.080053",
     "status": "completed"
    },
    "tags": []
   },
   "source": [
    "Nothing stands out too much about these two columns. Our target mean is 43%, meaning we almost have 50/50 split data on disaster tweets or non-disaster tweets."
   ]
  },
  {
   "cell_type": "code",
   "execution_count": 6,
   "id": "8458e8ef",
   "metadata": {
    "execution": {
     "iopub.execute_input": "2024-04-16T22:00:11.127662Z",
     "iopub.status.busy": "2024-04-16T22:00:11.127153Z",
     "iopub.status.idle": "2024-04-16T22:00:11.145510Z",
     "shell.execute_reply": "2024-04-16T22:00:11.144657Z"
    },
    "papermill": {
     "duration": 0.037309,
     "end_time": "2024-04-16T22:00:11.148049",
     "exception": false,
     "start_time": "2024-04-16T22:00:11.110740",
     "status": "completed"
    },
    "tags": []
   },
   "outputs": [
    {
     "data": {
      "text/plain": [
       "id          7613\n",
       "keyword      221\n",
       "location    3341\n",
       "text        7503\n",
       "target         2\n",
       "dtype: int64"
      ]
     },
     "execution_count": 6,
     "metadata": {},
     "output_type": "execute_result"
    }
   ],
   "source": [
    "# Test to see if there are duplicates.\n",
    "train.nunique()"
   ]
  },
  {
   "cell_type": "markdown",
   "id": "cf143509",
   "metadata": {
    "papermill": {
     "duration": 0.015196,
     "end_time": "2024-04-16T22:00:11.178658",
     "exception": false,
     "start_time": "2024-04-16T22:00:11.163462",
     "status": "completed"
    },
    "tags": []
   },
   "source": [
    "There seems to be a few tweets that say the same thing. "
   ]
  },
  {
   "cell_type": "code",
   "execution_count": 7,
   "id": "efc507cb",
   "metadata": {
    "execution": {
     "iopub.execute_input": "2024-04-16T22:00:11.211282Z",
     "iopub.status.busy": "2024-04-16T22:00:11.210848Z",
     "iopub.status.idle": "2024-04-16T22:00:11.229394Z",
     "shell.execute_reply": "2024-04-16T22:00:11.228563Z"
    },
    "papermill": {
     "duration": 0.037791,
     "end_time": "2024-04-16T22:00:11.231752",
     "exception": false,
     "start_time": "2024-04-16T22:00:11.193961",
     "status": "completed"
    },
    "tags": []
   },
   "outputs": [
    {
     "data": {
      "text/html": [
       "<div>\n",
       "<style scoped>\n",
       "    .dataframe tbody tr th:only-of-type {\n",
       "        vertical-align: middle;\n",
       "    }\n",
       "\n",
       "    .dataframe tbody tr th {\n",
       "        vertical-align: top;\n",
       "    }\n",
       "\n",
       "    .dataframe thead th {\n",
       "        text-align: right;\n",
       "    }\n",
       "</style>\n",
       "<table border=\"1\" class=\"dataframe\">\n",
       "  <thead>\n",
       "    <tr style=\"text-align: right;\">\n",
       "      <th></th>\n",
       "      <th>id</th>\n",
       "      <th>keyword</th>\n",
       "      <th>location</th>\n",
       "      <th>text</th>\n",
       "      <th>target</th>\n",
       "    </tr>\n",
       "  </thead>\n",
       "  <tbody>\n",
       "    <tr>\n",
       "      <th>48</th>\n",
       "      <td>68</td>\n",
       "      <td>ablaze</td>\n",
       "      <td>Live On Webcam</td>\n",
       "      <td>Check these out: http://t.co/rOI2NSmEJJ http:/...</td>\n",
       "      <td>0</td>\n",
       "    </tr>\n",
       "    <tr>\n",
       "      <th>115</th>\n",
       "      <td>165</td>\n",
       "      <td>aftershock</td>\n",
       "      <td>US</td>\n",
       "      <td>320 [IR] ICEMOON [AFTERSHOCK] | http://t.co/vA...</td>\n",
       "      <td>0</td>\n",
       "    </tr>\n",
       "    <tr>\n",
       "      <th>119</th>\n",
       "      <td>172</td>\n",
       "      <td>aftershock</td>\n",
       "      <td>Switzerland</td>\n",
       "      <td>320 [IR] ICEMOON [AFTERSHOCK] | http://t.co/TH...</td>\n",
       "      <td>0</td>\n",
       "    </tr>\n",
       "    <tr>\n",
       "      <th>164</th>\n",
       "      <td>238</td>\n",
       "      <td>airplane%20accident</td>\n",
       "      <td>NaN</td>\n",
       "      <td>Experts in France begin examining airplane deb...</td>\n",
       "      <td>1</td>\n",
       "    </tr>\n",
       "    <tr>\n",
       "      <th>624</th>\n",
       "      <td>898</td>\n",
       "      <td>bioterrorism</td>\n",
       "      <td>NaN</td>\n",
       "      <td>To fight bioterrorism sir.</td>\n",
       "      <td>0</td>\n",
       "    </tr>\n",
       "    <tr>\n",
       "      <th>...</th>\n",
       "      <td>...</td>\n",
       "      <td>...</td>\n",
       "      <td>...</td>\n",
       "      <td>...</td>\n",
       "      <td>...</td>\n",
       "    </tr>\n",
       "    <tr>\n",
       "      <th>7600</th>\n",
       "      <td>10855</td>\n",
       "      <td>NaN</td>\n",
       "      <td>NaN</td>\n",
       "      <td>Evacuation order lifted for town of Roosevelt:...</td>\n",
       "      <td>1</td>\n",
       "    </tr>\n",
       "    <tr>\n",
       "      <th>7607</th>\n",
       "      <td>10867</td>\n",
       "      <td>NaN</td>\n",
       "      <td>NaN</td>\n",
       "      <td>#stormchase Violent Record Breaking EF-5 El Re...</td>\n",
       "      <td>1</td>\n",
       "    </tr>\n",
       "    <tr>\n",
       "      <th>7609</th>\n",
       "      <td>10870</td>\n",
       "      <td>NaN</td>\n",
       "      <td>NaN</td>\n",
       "      <td>@aria_ahrary @TheTawniest The out of control w...</td>\n",
       "      <td>1</td>\n",
       "    </tr>\n",
       "    <tr>\n",
       "      <th>7610</th>\n",
       "      <td>10871</td>\n",
       "      <td>NaN</td>\n",
       "      <td>NaN</td>\n",
       "      <td>M1.94 [01:04 UTC]?5km S of Volcano Hawaii. htt...</td>\n",
       "      <td>1</td>\n",
       "    </tr>\n",
       "    <tr>\n",
       "      <th>7611</th>\n",
       "      <td>10872</td>\n",
       "      <td>NaN</td>\n",
       "      <td>NaN</td>\n",
       "      <td>Police investigating after an e-bike collided ...</td>\n",
       "      <td>1</td>\n",
       "    </tr>\n",
       "  </tbody>\n",
       "</table>\n",
       "<p>110 rows × 5 columns</p>\n",
       "</div>"
      ],
      "text/plain": [
       "         id              keyword        location  \\\n",
       "48       68               ablaze  Live On Webcam   \n",
       "115     165           aftershock              US   \n",
       "119     172           aftershock     Switzerland   \n",
       "164     238  airplane%20accident             NaN   \n",
       "624     898         bioterrorism             NaN   \n",
       "...     ...                  ...             ...   \n",
       "7600  10855                  NaN             NaN   \n",
       "7607  10867                  NaN             NaN   \n",
       "7609  10870                  NaN             NaN   \n",
       "7610  10871                  NaN             NaN   \n",
       "7611  10872                  NaN             NaN   \n",
       "\n",
       "                                                   text  target  \n",
       "48    Check these out: http://t.co/rOI2NSmEJJ http:/...       0  \n",
       "115   320 [IR] ICEMOON [AFTERSHOCK] | http://t.co/vA...       0  \n",
       "119   320 [IR] ICEMOON [AFTERSHOCK] | http://t.co/TH...       0  \n",
       "164   Experts in France begin examining airplane deb...       1  \n",
       "624                          To fight bioterrorism sir.       0  \n",
       "...                                                 ...     ...  \n",
       "7600  Evacuation order lifted for town of Roosevelt:...       1  \n",
       "7607  #stormchase Violent Record Breaking EF-5 El Re...       1  \n",
       "7609  @aria_ahrary @TheTawniest The out of control w...       1  \n",
       "7610  M1.94 [01:04 UTC]?5km S of Volcano Hawaii. htt...       1  \n",
       "7611  Police investigating after an e-bike collided ...       1  \n",
       "\n",
       "[110 rows x 5 columns]"
      ]
     },
     "execution_count": 7,
     "metadata": {},
     "output_type": "execute_result"
    }
   ],
   "source": [
    "# Look at the the duplicated texts.\n",
    "train[train.duplicated(subset='text', keep='first')]"
   ]
  },
  {
   "cell_type": "markdown",
   "id": "05eab318",
   "metadata": {
    "papermill": {
     "duration": 0.015367,
     "end_time": "2024-04-16T22:00:11.263178",
     "exception": false,
     "start_time": "2024-04-16T22:00:11.247811",
     "status": "completed"
    },
    "tags": []
   },
   "source": [
    "It seems like some of these tweets are automated tweets such as the US and Switzerland tweeting about an Icemoon aftershock. Other tweets might be various people retweeting about some news headline. I will keep them in for now since it may help with prediction. "
   ]
  },
  {
   "cell_type": "code",
   "execution_count": 8,
   "id": "3133b3be",
   "metadata": {
    "execution": {
     "iopub.execute_input": "2024-04-16T22:00:11.296572Z",
     "iopub.status.busy": "2024-04-16T22:00:11.296160Z",
     "iopub.status.idle": "2024-04-16T22:00:11.640992Z",
     "shell.execute_reply": "2024-04-16T22:00:11.639777Z"
    },
    "papermill": {
     "duration": 0.364549,
     "end_time": "2024-04-16T22:00:11.643495",
     "exception": false,
     "start_time": "2024-04-16T22:00:11.278946",
     "status": "completed"
    },
    "tags": []
   },
   "outputs": [
    {
     "name": "stdout",
     "output_type": "stream",
     "text": [
      "target\n",
      "0    4342\n",
      "1    3271\n",
      "Name: count, dtype: int64\n"
     ]
    },
    {
     "data": {
      "text/plain": [
       "Text(0.5, 1.0, 'Histogram of target counts')"
      ]
     },
     "execution_count": 8,
     "metadata": {},
     "output_type": "execute_result"
    },
    {
     "data": {
      "image/png": "[encoded data removed]",
      "text/plain": [
       "<Figure size 640x480 with 1 Axes>"
      ]
     },
     "metadata": {},
     "output_type": "display_data"
    }
   ],
   "source": [
    "# See counts of each target.\n",
    "print(train.target.value_counts())\n",
    "\n",
    "# Plot the dataframe by target.\n",
    "sns.countplot(train, x='target', hue='target')\n",
    "plt.title('Histogram of target counts')"
   ]
  },
  {
   "cell_type": "markdown",
   "id": "567d8e76",
   "metadata": {
    "papermill": {
     "duration": 0.016475,
     "end_time": "2024-04-16T22:00:11.676753",
     "exception": false,
     "start_time": "2024-04-16T22:00:11.660278",
     "status": "completed"
    },
    "tags": []
   },
   "source": [
    "In the training data, there are 4,342 non-disaster tweets and 3,271 disaster tweets. "
   ]
  },
  {
   "cell_type": "code",
   "execution_count": 9,
   "id": "7b70c3e8",
   "metadata": {
    "execution": {
     "iopub.execute_input": "2024-04-16T22:00:11.713590Z",
     "iopub.status.busy": "2024-04-16T22:00:11.712688Z",
     "iopub.status.idle": "2024-04-16T22:00:13.256936Z",
     "shell.execute_reply": "2024-04-16T22:00:13.255670Z"
    },
    "papermill": {
     "duration": 1.565625,
     "end_time": "2024-04-16T22:00:13.259571",
     "exception": false,
     "start_time": "2024-04-16T22:00:11.693946",
     "status": "completed"
    },
    "tags": []
   },
   "outputs": [
    {
     "data": {
      "image/png": "[encoded data removed]",
      "text/plain": [
       "<Figure size 640x480 with 1 Axes>"
      ]
     },
     "metadata": {},
     "output_type": "display_data"
    },
    {
     "data": {
      "image/png": "[encoded data removed]",
      "text/plain": [
       "<Figure size 640x480 with 1 Axes>"
      ]
     },
     "metadata": {},
     "output_type": "display_data"
    },
    {
     "data": {
      "image/png": "[encoded data removed]",
      "text/plain": [
       "<Figure size 640x480 with 1 Axes>"
      ]
     },
     "metadata": {},
     "output_type": "display_data"
    }
   ],
   "source": [
    "# Plot top 25 keywords.\n",
    "keywords=train['keyword'].value_counts()[:25]\n",
    "sns.barplot(x=keywords,y=keywords.index,palette='deep')\n",
    "plt.title(\"Top 25 Keywords\")\n",
    "plt.xlabel(\"Count of Keywords\")\n",
    "plt.show()\n",
    "\n",
    "# Plot top 25 keywords that are not disasters.\n",
    "keywords=train[train['target'] == 0]['keyword'].value_counts()[:25]\n",
    "sns.barplot(x=keywords,y=keywords.index,palette='deep')\n",
    "plt.title(\"Top 25 Keywords - not disasters\")\n",
    "plt.xlabel(\"Count of Keywords - not disasters\")\n",
    "plt.show()\n",
    "\n",
    "# Plot top 25 keywords that are  disasters.\n",
    "keywords=train[train['target'] == 1]['keyword'].value_counts()[:25]\n",
    "sns.barplot(x=keywords,y=keywords.index,palette='deep')\n",
    "plt.title(\"Top 25 Keywords - disasters\")\n",
    "plt.xlabel(\"Count of Keywords - disasters\")\n",
    "plt.show()"
   ]
  },
  {
   "cell_type": "markdown",
   "id": "485ea883",
   "metadata": {
    "papermill": {
     "duration": 0.019163,
     "end_time": "2024-04-16T22:00:13.298220",
     "exception": false,
     "start_time": "2024-04-16T22:00:13.279057",
     "status": "completed"
    },
    "tags": []
   },
   "source": [
    "## Investigate word and character counts"
   ]
  },
  {
   "cell_type": "code",
   "execution_count": 10,
   "id": "ae356bb0",
   "metadata": {
    "execution": {
     "iopub.execute_input": "2024-04-16T22:00:13.338131Z",
     "iopub.status.busy": "2024-04-16T22:00:13.337749Z",
     "iopub.status.idle": "2024-04-16T22:00:13.835891Z",
     "shell.execute_reply": "2024-04-16T22:00:13.834678Z"
    },
    "papermill": {
     "duration": 0.521172,
     "end_time": "2024-04-16T22:00:13.838540",
     "exception": false,
     "start_time": "2024-04-16T22:00:13.317368",
     "status": "completed"
    },
    "tags": []
   },
   "outputs": [
    {
     "name": "stdout",
     "output_type": "stream",
     "text": [
      "         count       mean       std  min   25%   50%   75%   max\n",
      "target                                                          \n",
      "0       4342.0  14.704744  6.161564  1.0  10.0  15.0  19.0  31.0\n",
      "1       3271.0  15.167533  5.096806  2.0  11.0  15.0  19.0  30.0\n"
     ]
    },
    {
     "name": "stderr",
     "output_type": "stream",
     "text": [
      "/opt/conda/lib/python3.10/site-packages/seaborn/_oldcore.py:1119: FutureWarning: use_inf_as_na option is deprecated and will be removed in a future version. Convert inf values to NaN before operating instead.\n",
      "  with pd.option_context('mode.use_inf_as_na', True):\n",
      "/opt/conda/lib/python3.10/site-packages/seaborn/_oldcore.py:1075: FutureWarning: When grouping with a length-1 list-like, you will need to pass a length-1 tuple to get_group in a future version of pandas. Pass `(name,)` instead of `name` to silence this warning.\n",
      "  data_subset = grouped_data.get_group(pd_key)\n",
      "/opt/conda/lib/python3.10/site-packages/seaborn/_oldcore.py:1075: FutureWarning: When grouping with a length-1 list-like, you will need to pass a length-1 tuple to get_group in a future version of pandas. Pass `(name,)` instead of `name` to silence this warning.\n",
      "  data_subset = grouped_data.get_group(pd_key)\n"
     ]
    },
    {
     "data": {
      "image/png": "[encoded data removed]",
      "text/plain": [
       "<Figure size 640x480 with 1 Axes>"
      ]
     },
     "metadata": {},
     "output_type": "display_data"
    }
   ],
   "source": [
    "# Get the word count for each tweet.\n",
    "train['word_count'] = train['text'].apply(lambda x: len(str(x).split()))\n",
    "\n",
    "# Group by 'target' and compute the summary stats of 'word_count' in each group.\n",
    "word_counts = train.groupby('target')['word_count'].describe()\n",
    "print(word_counts)\n",
    "\n",
    "# Create a desity plot. \n",
    "sns.kdeplot(train, x='word_count', hue='target', multiple=\"stack\", alpha=.5,)\n",
    "plt.xlabel('Word Count')\n",
    "plt.title('Word Count by target')\n",
    "plt.show()"
   ]
  },
  {
   "cell_type": "markdown",
   "id": "cf6846aa",
   "metadata": {
    "papermill": {
     "duration": 0.020456,
     "end_time": "2024-04-16T22:00:13.879857",
     "exception": false,
     "start_time": "2024-04-16T22:00:13.859401",
     "status": "completed"
    },
    "tags": []
   },
   "source": [
    "The word counts for disaster tweets and non-disaster tweets have similar distributions but different densities."
   ]
  },
  {
   "cell_type": "code",
   "execution_count": 11,
   "id": "179dc72b",
   "metadata": {
    "execution": {
     "iopub.execute_input": "2024-04-16T22:00:13.924683Z",
     "iopub.status.busy": "2024-04-16T22:00:13.923564Z",
     "iopub.status.idle": "2024-04-16T22:00:14.374473Z",
     "shell.execute_reply": "2024-04-16T22:00:14.373294Z"
    },
    "papermill": {
     "duration": 0.476134,
     "end_time": "2024-04-16T22:00:14.376813",
     "exception": false,
     "start_time": "2024-04-16T22:00:13.900679",
     "status": "completed"
    },
    "tags": []
   },
   "outputs": [
    {
     "name": "stdout",
     "output_type": "stream",
     "text": [
      "         count        mean        std   min   25%    50%    75%    max\n",
      "target                                                                \n",
      "0       4342.0   95.706817  35.885924   7.0  68.0  101.0  130.0  157.0\n",
      "1       3271.0  108.113421  29.309854  14.0  88.0  115.0  136.0  151.0\n"
     ]
    },
    {
     "name": "stderr",
     "output_type": "stream",
     "text": [
      "/opt/conda/lib/python3.10/site-packages/seaborn/_oldcore.py:1119: FutureWarning: use_inf_as_na option is deprecated and will be removed in a future version. Convert inf values to NaN before operating instead.\n",
      "  with pd.option_context('mode.use_inf_as_na', True):\n",
      "/opt/conda/lib/python3.10/site-packages/seaborn/_oldcore.py:1075: FutureWarning: When grouping with a length-1 list-like, you will need to pass a length-1 tuple to get_group in a future version of pandas. Pass `(name,)` instead of `name` to silence this warning.\n",
      "  data_subset = grouped_data.get_group(pd_key)\n",
      "/opt/conda/lib/python3.10/site-packages/seaborn/_oldcore.py:1075: FutureWarning: When grouping with a length-1 list-like, you will need to pass a length-1 tuple to get_group in a future version of pandas. Pass `(name,)` instead of `name` to silence this warning.\n",
      "  data_subset = grouped_data.get_group(pd_key)\n"
     ]
    },
    {
     "data": {
      "image/png": "[encoded data removed]",
      "text/plain": [
       "<Figure size 640x480 with 1 Axes>"
      ]
     },
     "metadata": {},
     "output_type": "display_data"
    }
   ],
   "source": [
    "# Get the character count for each tweet.\n",
    "train['char_count'] = train['text'].apply(lambda x: len(str(x)))\n",
    "\n",
    "# Group by 'target' and compute the summary stats of 'char_count' in each group.\n",
    "char_counts = train.groupby('target')['char_count'].describe()\n",
    "print(char_counts)\n",
    "\n",
    "# Create a density plot. \n",
    "sns.kdeplot(train, x='char_count', hue='target', multiple=\"stack\", alpha=.5,)\n",
    "plt.xlabel('Character Count')\n",
    "plt.title('Character Count by target')\n",
    "plt.show()\n"
   ]
  },
  {
   "cell_type": "markdown",
   "id": "33722b3b",
   "metadata": {
    "papermill": {
     "duration": 0.020774,
     "end_time": "2024-04-16T22:00:14.418403",
     "exception": false,
     "start_time": "2024-04-16T22:00:14.397629",
     "status": "completed"
    },
    "tags": []
   },
   "source": [
    "The character counts for disaster tweets and non-disaster tweets have similar distributions but different densities."
   ]
  },
  {
   "cell_type": "markdown",
   "id": "7b74576b",
   "metadata": {
    "papermill": {
     "duration": 0.07855,
     "end_time": "2024-04-16T22:00:14.517795",
     "exception": false,
     "start_time": "2024-04-16T22:00:14.439245",
     "status": "completed"
    },
    "tags": []
   },
   "source": [
    "## Cleaning the text"
   ]
  },
  {
   "cell_type": "markdown",
   "id": "d5fffb11",
   "metadata": {
    "papermill": {
     "duration": 0.020588,
     "end_time": "2024-04-16T22:00:14.559397",
     "exception": false,
     "start_time": "2024-04-16T22:00:14.538809",
     "status": "completed"
    },
    "tags": []
   },
   "source": [
    "There are a lot of different things we want to clean about our data, especially since this is tweet data. In tweet data there tends to be a lot of contractions to reduce character counts of the tweet. There also might be a lot of stop words, emojis, urls, numbers, and punctuation. "
   ]
  },
  {
   "cell_type": "code",
   "execution_count": 12,
   "id": "4a6a4c23",
   "metadata": {
    "execution": {
     "iopub.execute_input": "2024-04-16T22:00:14.603762Z",
     "iopub.status.busy": "2024-04-16T22:00:14.603339Z",
     "iopub.status.idle": "2024-04-16T22:00:18.170129Z",
     "shell.execute_reply": "2024-04-16T22:00:18.168916Z"
    },
    "papermill": {
     "duration": 3.592698,
     "end_time": "2024-04-16T22:00:18.173259",
     "exception": false,
     "start_time": "2024-04-16T22:00:14.580561",
     "status": "completed"
    },
    "tags": []
   },
   "outputs": [
    {
     "name": "stdout",
     "output_type": "stream",
     "text": [
      "[nltk_data] Downloading package stopwords to /usr/share/nltk_data...\n",
      "[nltk_data]   Package stopwords is already up-to-date!\n"
     ]
    }
   ],
   "source": [
    "# Download stopwords from NLTK.\n",
    "nltk.download('stopwords')\n",
    "\n",
    "def clean_text(text):\n",
    "    # Create a dictionary of English Contractions.\n",
    "    contractions_dict = { \"ain't\": \"are not\",\"'s\":\" is\",\"aren't\": \"are not\",\n",
    "                         \"can't\": \"cannot\",\"can't've\": \"cannot have\",\n",
    "                         \"'cause\": \"because\",\"could've\": \"could have\",\"couldn't\": \"could not\",\n",
    "                         \"couldn't've\": \"could not have\", \"didn't\": \"did not\",\"doesn't\": \"does not\",\n",
    "                         \"don't\": \"do not\",\"hadn't\": \"had not\",\"hadn't've\": \"had not have\",\n",
    "                         \"hasn't\": \"has not\",\"haven't\": \"have not\",\"he'd\": \"he would\",\n",
    "                         \"he'd've\": \"he would have\",\"he'll\": \"he will\", \"he'll've\": \"he will have\",\n",
    "                         \"how'd\": \"how did\",\"how'd'y\": \"how do you\",\"how'll\": \"how will\",\n",
    "                         \"I'd\": \"I would\", \"I'd've\": \"I would have\",\"I'll\": \"I will\",\n",
    "                         \"I'll've\": \"I will have\",\"I'm\": \"I am\",\"I've\": \"I have\", \"isn't\": \"is not\",\n",
    "                         \"it'd\": \"it would\",\"it'd've\": \"it would have\",\"it'll\": \"it will\",\n",
    "                         \"it'll've\": \"it will have\", \"let's\": \"let us\",\"ma'am\": \"madam\",\n",
    "                         \"mayn't\": \"may not\",\"might've\": \"might have\",\"mightn't\": \"might not\", \n",
    "                         \"mightn't've\": \"might not have\",\"must've\": \"must have\",\"mustn't\": \"must not\",\n",
    "                         \"mustn't've\": \"must not have\", \"needn't\": \"need not\",\n",
    "                         \"needn't've\": \"need not have\",\"o'clock\": \"of the clock\",\"oughtn't\": \"ought not\",\n",
    "                         \"oughtn't've\": \"ought not have\",\"shan't\": \"shall not\",\"sha'n't\": \"shall not\",\n",
    "                         \"shan't've\": \"shall not have\",\"she'd\": \"she would\",\"she'd've\": \"she would have\",\n",
    "                         \"she'll\": \"she will\", \"she'll've\": \"she will have\",\"should've\": \"should have\",\n",
    "                         \"shouldn't\": \"should not\", \"shouldn't've\": \"should not have\",\"so've\": \"so have\",\n",
    "                         \"that'd\": \"that would\",\"that'd've\": \"that would have\", \"there'd\": \"there would\",\n",
    "                         \"there'd've\": \"there would have\", \"they'd\": \"they would\",\n",
    "                         \"they'd've\": \"they would have\",\"they'll\": \"they will\",\n",
    "                         \"they'll've\": \"they will have\", \"they're\": \"they are\",\"they've\": \"they have\",\n",
    "                         \"to've\": \"to have\",\"wasn't\": \"was not\",\"we'd\": \"we would\",\n",
    "                         \"we'd've\": \"we would have\",\"we'll\": \"we will\",\"we'll've\": \"we will have\",\n",
    "                         \"we're\": \"we are\",\"we've\": \"we have\", \"weren't\": \"were not\",\"what'll\": \"what will\",\n",
    "                         \"what'll've\": \"what will have\",\"what're\": \"what are\", \"what've\": \"what have\",\n",
    "                         \"when've\": \"when have\",\"where'd\": \"where did\", \"where've\": \"where have\",\n",
    "                         \"who'll\": \"who will\",\"who'll've\": \"who will have\",\"who've\": \"who have\",\n",
    "                         \"why've\": \"why have\",\"will've\": \"will have\",\"won't\": \"will not\",\n",
    "                         \"won't've\": \"will not have\", \"would've\": \"would have\",\"wouldn't\": \"would not\",\n",
    "                         \"wouldn't've\": \"would not have\",\"y'all\": \"you all\", \"y'all'd\": \"you all would\",\n",
    "                         \"y'all'd've\": \"you all would have\",\"y'all're\": \"you all are\",\n",
    "                         \"y'all've\": \"you all have\", \"you'd\": \"you would\",\"you'd've\": \"you would have\",\n",
    "                         \"you'll\": \"you will\",\"you'll've\": \"you will have\", \"you're\": \"you are\",\n",
    "                         \"you've\": \"you have\"}\n",
    "\n",
    "    # Regular expression for finding contractions.\n",
    "    contractions_re=re.compile('(%s)' % '|'.join(contractions_dict.keys()))\n",
    "\n",
    "    def expand_contractions(s, contractions_dict=contractions_dict):\n",
    "        def replace(match):\n",
    "            return contractions_dict[match.group(0)]\n",
    "        return contractions_re.sub(replace, s)\n",
    "\n",
    "    # Expanding Contractions in the text.\n",
    "    text = expand_contractions(text)\n",
    "\n",
    "    # Lowercase the text.\n",
    "    text = text.lower()\n",
    "\n",
    "    # Remove URLs and replace with \"url\".\n",
    "    text = re.sub(r'http\\S+|www.\\S+', 'url', text)\n",
    "\n",
    "    # Remove html tags and replace with \"html\".\n",
    "    text = re.sub(r'<.*?>', 'html', text)\n",
    "\n",
    "    # Remove non-ASCII characters.\n",
    "    text = text.encode(\"ascii\", \"ignore\").decode()\n",
    "\n",
    "    # Remove mentions and replace with \"user\".\n",
    "    text = re.sub(r'@\\w+', 'user', text)\n",
    "\n",
    "    # Remove numbers and replace with \"number\".\n",
    "    text = re.sub(r'\\d+', 'number', text)\n",
    "\n",
    "    # Replace emojis with \"emoji\".\n",
    "    text = emoji.demojize(text, delimiters=(\" \", \" \"))\n",
    "\n",
    "    # Replace <3 with \"heart\".\n",
    "    text = text.replace('<3', 'heart')\n",
    "\n",
    "    # Remove punctuation.\n",
    "    text = re.sub(r'[^\\w\\s]', '', text)\n",
    "\n",
    "    # Remove stopwords.\n",
    "    stop_words = set(stopwords.words('english'))\n",
    "    text = ' '.join([word for word in text.split() if word not in stop_words])\n",
    "\n",
    "    return text\n",
    "\n",
    "# Apply the function to the 'text' column.\n",
    "train_updated = train\n",
    "train_updated['text'] = train['text'].apply(clean_text)"
   ]
  },
  {
   "cell_type": "code",
   "execution_count": 13,
   "id": "22a029ee",
   "metadata": {
    "execution": {
     "iopub.execute_input": "2024-04-16T22:00:18.219141Z",
     "iopub.status.busy": "2024-04-16T22:00:18.218735Z",
     "iopub.status.idle": "2024-04-16T22:00:18.231811Z",
     "shell.execute_reply": "2024-04-16T22:00:18.230659Z"
    },
    "papermill": {
     "duration": 0.038572,
     "end_time": "2024-04-16T22:00:18.234036",
     "exception": false,
     "start_time": "2024-04-16T22:00:18.195464",
     "status": "completed"
    },
    "tags": []
   },
   "outputs": [
    {
     "data": {
      "text/html": [
       "<div>\n",
       "<style scoped>\n",
       "    .dataframe tbody tr th:only-of-type {\n",
       "        vertical-align: middle;\n",
       "    }\n",
       "\n",
       "    .dataframe tbody tr th {\n",
       "        vertical-align: top;\n",
       "    }\n",
       "\n",
       "    .dataframe thead th {\n",
       "        text-align: right;\n",
       "    }\n",
       "</style>\n",
       "<table border=\"1\" class=\"dataframe\">\n",
       "  <thead>\n",
       "    <tr style=\"text-align: right;\">\n",
       "      <th></th>\n",
       "      <th>id</th>\n",
       "      <th>keyword</th>\n",
       "      <th>location</th>\n",
       "      <th>text</th>\n",
       "      <th>target</th>\n",
       "      <th>word_count</th>\n",
       "      <th>char_count</th>\n",
       "    </tr>\n",
       "  </thead>\n",
       "  <tbody>\n",
       "    <tr>\n",
       "      <th>0</th>\n",
       "      <td>1</td>\n",
       "      <td>NaN</td>\n",
       "      <td>NaN</td>\n",
       "      <td>deeds reason earthquake may allah forgive us</td>\n",
       "      <td>1</td>\n",
       "      <td>13</td>\n",
       "      <td>69</td>\n",
       "    </tr>\n",
       "    <tr>\n",
       "      <th>1</th>\n",
       "      <td>4</td>\n",
       "      <td>NaN</td>\n",
       "      <td>NaN</td>\n",
       "      <td>forest fire near la ronge sask canada</td>\n",
       "      <td>1</td>\n",
       "      <td>7</td>\n",
       "      <td>38</td>\n",
       "    </tr>\n",
       "    <tr>\n",
       "      <th>2</th>\n",
       "      <td>5</td>\n",
       "      <td>NaN</td>\n",
       "      <td>NaN</td>\n",
       "      <td>residents asked ishelter place notified office...</td>\n",
       "      <td>1</td>\n",
       "      <td>22</td>\n",
       "      <td>133</td>\n",
       "    </tr>\n",
       "    <tr>\n",
       "      <th>3</th>\n",
       "      <td>6</td>\n",
       "      <td>NaN</td>\n",
       "      <td>NaN</td>\n",
       "      <td>numbernumber people receive wildfires evacuati...</td>\n",
       "      <td>1</td>\n",
       "      <td>8</td>\n",
       "      <td>65</td>\n",
       "    </tr>\n",
       "    <tr>\n",
       "      <th>4</th>\n",
       "      <td>7</td>\n",
       "      <td>NaN</td>\n",
       "      <td>NaN</td>\n",
       "      <td>got sent photo ruby alaska smoke wildfires pou...</td>\n",
       "      <td>1</td>\n",
       "      <td>16</td>\n",
       "      <td>88</td>\n",
       "    </tr>\n",
       "  </tbody>\n",
       "</table>\n",
       "</div>"
      ],
      "text/plain": [
       "   id keyword location                                               text  \\\n",
       "0   1     NaN      NaN       deeds reason earthquake may allah forgive us   \n",
       "1   4     NaN      NaN              forest fire near la ronge sask canada   \n",
       "2   5     NaN      NaN  residents asked ishelter place notified office...   \n",
       "3   6     NaN      NaN  numbernumber people receive wildfires evacuati...   \n",
       "4   7     NaN      NaN  got sent photo ruby alaska smoke wildfires pou...   \n",
       "\n",
       "   target  word_count  char_count  \n",
       "0       1          13          69  \n",
       "1       1           7          38  \n",
       "2       1          22         133  \n",
       "3       1           8          65  \n",
       "4       1          16          88  "
      ]
     },
     "execution_count": 13,
     "metadata": {},
     "output_type": "execute_result"
    }
   ],
   "source": [
    "train_updated.head()"
   ]
  },
  {
   "cell_type": "markdown",
   "id": "c7a2ab71",
   "metadata": {
    "papermill": {
     "duration": 0.020991,
     "end_time": "2024-04-16T22:00:18.276331",
     "exception": false,
     "start_time": "2024-04-16T22:00:18.255340",
     "status": "completed"
    },
    "tags": []
   },
   "source": [
    "# Models\n",
    "\n"
   ]
  },
  {
   "cell_type": "markdown",
   "id": "86bd19e0",
   "metadata": {
    "papermill": {
     "duration": 0.021431,
     "end_time": "2024-04-16T22:00:18.319742",
     "exception": false,
     "start_time": "2024-04-16T22:00:18.298311",
     "status": "completed"
    },
    "tags": []
   },
   "source": [
    "The models I am choosing to use are different recurrent neural networks (RNN), specifically long short-term memory (LSTM) and gated recurrent unit (GRU) models. I will then try to optimize a few hyperparameters or add already built weights to try and get a better model.\n",
    "\n",
    "Simple RNNs are comprised of an input, a hidden state updated through recurrent connections, and an output.\n",
    "\n",
    "LSTM differ from simple RNNs by adding and including a cell state. This cell state is used for long term memory.\n",
    "\n",
    "GRUs differ from simple RNNs by using a reset gate and update gate based on moving average. This simplifies the architecture compared to LSTM but maintains a similar performance. \n",
    "\n",
    "For a simple models test, I will have an embedding layer, one of the models (LSTM and GRU) layer, followed by the activation function. Embedding will encode each word with a number. \n",
    "\n",
    "Once our models are built we can process our data, split our data into training and validation sets, compile our model, and fit our model. When compiling we will use is Adaptive Moment Estimation (Adam) optimizer which is a stochastic gradient descent that scales the learning rate. \n",
    "\n"
   ]
  },
  {
   "cell_type": "code",
   "execution_count": 14,
   "id": "d9ab8d2b",
   "metadata": {
    "execution": {
     "iopub.execute_input": "2024-04-16T22:00:18.364278Z",
     "iopub.status.busy": "2024-04-16T22:00:18.363892Z",
     "iopub.status.idle": "2024-04-16T22:00:18.416966Z",
     "shell.execute_reply": "2024-04-16T22:00:18.415916Z"
    },
    "papermill": {
     "duration": 0.078292,
     "end_time": "2024-04-16T22:00:18.419472",
     "exception": false,
     "start_time": "2024-04-16T22:00:18.341180",
     "status": "completed"
    },
    "tags": []
   },
   "outputs": [],
   "source": [
    "# Create simple LSTM Model.\n",
    "model_lstm = Sequential()\n",
    "model_lstm.add(Embedding(input_dim=10000, output_dim=32))\n",
    "model_lstm.add(LSTM(32))\n",
    "model_lstm.add(Dense(1, activation='sigmoid'))\n",
    "\n",
    "# Create simple GRU Model.\n",
    "model_gru = Sequential()\n",
    "model_gru.add(Embedding(input_dim=10000, output_dim=32))\n",
    "model_gru.add(GRU(32))\n",
    "model_gru.add(Dense(1, activation='sigmoid'))\n"
   ]
  },
  {
   "cell_type": "code",
   "execution_count": 15,
   "id": "0d01893b",
   "metadata": {
    "execution": {
     "iopub.execute_input": "2024-04-16T22:00:18.464746Z",
     "iopub.status.busy": "2024-04-16T22:00:18.463958Z",
     "iopub.status.idle": "2024-04-16T22:03:37.423767Z",
     "shell.execute_reply": "2024-04-16T22:03:37.422695Z"
    },
    "papermill": {
     "duration": 198.985553,
     "end_time": "2024-04-16T22:03:37.426562",
     "exception": false,
     "start_time": "2024-04-16T22:00:18.441009",
     "status": "completed"
    },
    "tags": []
   },
   "outputs": [
    {
     "name": "stdout",
     "output_type": "stream",
     "text": [
      "Epoch 1/10\n",
      "\u001b[1m191/191\u001b[0m \u001b[32m━━━━━━━━━━━━━━━━━━━━\u001b[0m\u001b[37m\u001b[0m \u001b[1m10s\u001b[0m 40ms/step - accuracy: 0.6200 - loss: 0.6460 - val_accuracy: 0.7997 - val_loss: 0.4485\n",
      "Epoch 2/10\n",
      "\u001b[1m191/191\u001b[0m \u001b[32m━━━━━━━━━━━━━━━━━━━━\u001b[0m\u001b[37m\u001b[0m \u001b[1m10s\u001b[0m 38ms/step - accuracy: 0.8477 - loss: 0.3563 - val_accuracy: 0.7886 - val_loss: 0.4735\n",
      "Epoch 3/10\n",
      "\u001b[1m191/191\u001b[0m \u001b[32m━━━━━━━━━━━━━━━━━━━━\u001b[0m\u001b[37m\u001b[0m \u001b[1m10s\u001b[0m 38ms/step - accuracy: 0.9130 - loss: 0.2217 - val_accuracy: 0.7807 - val_loss: 0.5188\n",
      "Epoch 4/10\n",
      "\u001b[1m191/191\u001b[0m \u001b[32m━━━━━━━━━━━━━━━━━━━━\u001b[0m\u001b[37m\u001b[0m \u001b[1m7s\u001b[0m 37ms/step - accuracy: 0.9456 - loss: 0.1604 - val_accuracy: 0.7682 - val_loss: 0.6241\n",
      "Epoch 5/10\n",
      "\u001b[1m191/191\u001b[0m \u001b[32m━━━━━━━━━━━━━━━━━━━━\u001b[0m\u001b[37m\u001b[0m \u001b[1m7s\u001b[0m 38ms/step - accuracy: 0.9609 - loss: 0.1195 - val_accuracy: 0.7643 - val_loss: 0.6916\n",
      "Epoch 6/10\n",
      "\u001b[1m191/191\u001b[0m \u001b[32m━━━━━━━━━━━━━━━━━━━━\u001b[0m\u001b[37m\u001b[0m \u001b[1m10s\u001b[0m 37ms/step - accuracy: 0.9681 - loss: 0.0976 - val_accuracy: 0.7551 - val_loss: 0.7509\n",
      "Epoch 7/10\n",
      "\u001b[1m191/191\u001b[0m \u001b[32m━━━━━━━━━━━━━━━━━━━━\u001b[0m\u001b[37m\u001b[0m \u001b[1m7s\u001b[0m 38ms/step - accuracy: 0.9759 - loss: 0.0779 - val_accuracy: 0.7584 - val_loss: 0.8212\n",
      "Epoch 8/10\n",
      "\u001b[1m191/191\u001b[0m \u001b[32m━━━━━━━━━━━━━━━━━━━━\u001b[0m\u001b[37m\u001b[0m \u001b[1m10s\u001b[0m 38ms/step - accuracy: 0.9733 - loss: 0.0787 - val_accuracy: 0.7518 - val_loss: 0.7782\n",
      "Epoch 9/10\n",
      "\u001b[1m191/191\u001b[0m \u001b[32m━━━━━━━━━━━━━━━━━━━━\u001b[0m\u001b[37m\u001b[0m \u001b[1m10s\u001b[0m 38ms/step - accuracy: 0.9790 - loss: 0.0669 - val_accuracy: 0.7571 - val_loss: 0.8510\n",
      "Epoch 10/10\n",
      "\u001b[1m191/191\u001b[0m \u001b[32m━━━━━━━━━━━━━━━━━━━━\u001b[0m\u001b[37m\u001b[0m \u001b[1m10s\u001b[0m 38ms/step - accuracy: 0.9784 - loss: 0.0647 - val_accuracy: 0.7531 - val_loss: 0.9309\n",
      "Epoch 1/10\n",
      "\u001b[1m191/191\u001b[0m \u001b[32m━━━━━━━━━━━━━━━━━━━━\u001b[0m\u001b[37m\u001b[0m \u001b[1m12s\u001b[0m 48ms/step - accuracy: 0.6276 - loss: 0.6390 - val_accuracy: 0.8011 - val_loss: 0.4456\n",
      "Epoch 2/10\n",
      "\u001b[1m191/191\u001b[0m \u001b[32m━━━━━━━━━━━━━━━━━━━━\u001b[0m\u001b[37m\u001b[0m \u001b[1m9s\u001b[0m 44ms/step - accuracy: 0.8683 - loss: 0.3297 - val_accuracy: 0.7886 - val_loss: 0.4880\n",
      "Epoch 3/10\n",
      "\u001b[1m191/191\u001b[0m \u001b[32m━━━━━━━━━━━━━━━━━━━━\u001b[0m\u001b[37m\u001b[0m \u001b[1m10s\u001b[0m 45ms/step - accuracy: 0.9171 - loss: 0.2073 - val_accuracy: 0.7728 - val_loss: 0.5530\n",
      "Epoch 4/10\n",
      "\u001b[1m191/191\u001b[0m \u001b[32m━━━━━━━━━━━━━━━━━━━━\u001b[0m\u001b[37m\u001b[0m \u001b[1m10s\u001b[0m 46ms/step - accuracy: 0.9511 - loss: 0.1450 - val_accuracy: 0.7584 - val_loss: 0.7125\n",
      "Epoch 5/10\n",
      "\u001b[1m191/191\u001b[0m \u001b[32m━━━━━━━━━━━━━━━━━━━━\u001b[0m\u001b[37m\u001b[0m \u001b[1m9s\u001b[0m 45ms/step - accuracy: 0.9570 - loss: 0.1207 - val_accuracy: 0.7663 - val_loss: 0.7781\n",
      "Epoch 6/10\n",
      "\u001b[1m191/191\u001b[0m \u001b[32m━━━━━━━━━━━━━━━━━━━━\u001b[0m\u001b[37m\u001b[0m \u001b[1m10s\u001b[0m 45ms/step - accuracy: 0.9699 - loss: 0.0876 - val_accuracy: 0.7492 - val_loss: 0.8074\n",
      "Epoch 7/10\n",
      "\u001b[1m191/191\u001b[0m \u001b[32m━━━━━━━━━━━━━━━━━━━━\u001b[0m\u001b[37m\u001b[0m \u001b[1m10s\u001b[0m 45ms/step - accuracy: 0.9722 - loss: 0.0829 - val_accuracy: 0.7518 - val_loss: 0.9190\n",
      "Epoch 8/10\n",
      "\u001b[1m191/191\u001b[0m \u001b[32m━━━━━━━━━━━━━━━━━━━━\u001b[0m\u001b[37m\u001b[0m \u001b[1m9s\u001b[0m 46ms/step - accuracy: 0.9743 - loss: 0.0804 - val_accuracy: 0.7492 - val_loss: 0.8728\n",
      "Epoch 9/10\n",
      "\u001b[1m191/191\u001b[0m \u001b[32m━━━━━━━━━━━━━━━━━━━━\u001b[0m\u001b[37m\u001b[0m \u001b[1m10s\u001b[0m 45ms/step - accuracy: 0.9774 - loss: 0.0636 - val_accuracy: 0.7406 - val_loss: 0.9408\n",
      "Epoch 10/10\n",
      "\u001b[1m191/191\u001b[0m \u001b[32m━━━━━━━━━━━━━━━━━━━━\u001b[0m\u001b[37m\u001b[0m \u001b[1m9s\u001b[0m 46ms/step - accuracy: 0.9769 - loss: 0.0668 - val_accuracy: 0.7492 - val_loss: 0.9518\n",
      "\u001b[1m48/48\u001b[0m \u001b[32m━━━━━━━━━━━━━━━━━━━━\u001b[0m\u001b[37m\u001b[0m \u001b[1m1s\u001b[0m 14ms/step\n",
      "\u001b[1m48/48\u001b[0m \u001b[32m━━━━━━━━━━━━━━━━━━━━\u001b[0m\u001b[37m\u001b[0m \u001b[1m1s\u001b[0m 16ms/step\n"
     ]
    }
   ],
   "source": [
    "# Tokenize and pad sequences.\n",
    "tokenizer = Tokenizer(num_words=10000)\n",
    "tokenizer.fit_on_texts(train_updated['text'])\n",
    "sequences = tokenizer.texts_to_sequences(train_updated['text'])\n",
    "data = pad_sequences(sequences, maxlen=100)\n",
    "\n",
    "# Split data into training and validation sets.\n",
    "X_train, X_val, y_train, y_val = train_test_split(data, train_updated['target'], test_size=0.2, random_state=1234)\n",
    "\n",
    "# Compile the models.\n",
    "model_lstm.compile(optimizer='adam', loss='binary_crossentropy', metrics=['accuracy'])\n",
    "model_gru.compile(optimizer='adam', loss='binary_crossentropy', metrics=['accuracy'])\n",
    "\n",
    "# Train the models.\n",
    "model_lstm.fit(X_train, y_train, epochs=10, validation_data=(X_val, y_val))\n",
    "model_gru.fit(X_train, y_train, epochs=10, validation_data=(X_val, y_val))\n",
    "\n",
    "# Make predictions on the validation data.\n",
    "predictions_lstm = model_lstm.predict(X_val)\n",
    "predictions_gru = model_gru.predict(X_val)\n"
   ]
  },
  {
   "cell_type": "code",
   "execution_count": 16,
   "id": "f77e5991",
   "metadata": {
    "execution": {
     "iopub.execute_input": "2024-04-16T22:03:37.859773Z",
     "iopub.status.busy": "2024-04-16T22:03:37.858628Z",
     "iopub.status.idle": "2024-04-16T22:03:38.459286Z",
     "shell.execute_reply": "2024-04-16T22:03:38.458151Z"
    },
    "papermill": {
     "duration": 0.822067,
     "end_time": "2024-04-16T22:03:38.462033",
     "exception": false,
     "start_time": "2024-04-16T22:03:37.639966",
     "status": "completed"
    },
    "tags": []
   },
   "outputs": [
    {
     "data": {
      "image/png": "[encoded data removed]",
      "text/plain": [
       "<Figure size 500x500 with 2 Axes>"
      ]
     },
     "metadata": {},
     "output_type": "display_data"
    },
    {
     "data": {
      "image/png": "[encoded data removed]",
      "text/plain": [
       "<Figure size 500x500 with 2 Axes>"
      ]
     },
     "metadata": {},
     "output_type": "display_data"
    },
    {
     "name": "stdout",
     "output_type": "stream",
     "text": [
      "LSTM Classification Report:\n",
      "              precision    recall  f1-score   support\n",
      "\n",
      "           0       0.76      0.80      0.78       841\n",
      "           1       0.74      0.69      0.72       682\n",
      "\n",
      "    accuracy                           0.75      1523\n",
      "   macro avg       0.75      0.75      0.75      1523\n",
      "weighted avg       0.75      0.75      0.75      1523\n",
      "\n",
      "GRU Classification Report:\n",
      "              precision    recall  f1-score   support\n",
      "\n",
      "           0       0.76      0.79      0.78       841\n",
      "           1       0.73      0.70      0.71       682\n",
      "\n",
      "    accuracy                           0.75      1523\n",
      "   macro avg       0.75      0.74      0.75      1523\n",
      "weighted avg       0.75      0.75      0.75      1523\n",
      "\n"
     ]
    }
   ],
   "source": [
    "y_pred_lstm = predictions_lstm\n",
    "y_pred_gru = predictions_gru\n",
    "\n",
    "# Convert probabilities to binary predictions.\n",
    "y_pred_lstm = np.round(y_pred_lstm).astype(int)\n",
    "y_pred_gru = np.round(y_pred_gru).astype(int)\n",
    "\n",
    "# Create confusion matrices.\n",
    "cm_lstm = confusion_matrix(y_val, y_pred_lstm)\n",
    "cm_gru = confusion_matrix(y_val, y_pred_gru)\n",
    "\n",
    "# Plot confusion matrix.\n",
    "def plot_cm(cm, model_name):\n",
    "    plt.figure(figsize=(5,5))\n",
    "    sns.heatmap(cm, annot=True, fmt='d', cmap='Blues')\n",
    "    plt.title(f'{model_name} Confusion Matrix')\n",
    "    plt.xlabel('Predicted Label')\n",
    "    plt.ylabel('True Label')\n",
    "    plt.show()\n",
    "\n",
    "# Plot confusion matrices.\n",
    "plot_cm(cm_lstm, 'LSTM')\n",
    "plot_cm(cm_gru, 'GRU')\n",
    "\n",
    "# Print classification reports.\n",
    "report_lstm = classification_report(y_val, y_pred_lstm)\n",
    "report_gru = classification_report(y_val, y_pred_gru)\n",
    "\n",
    "print(f'LSTM Classification Report:\\n{report_lstm}')\n",
    "print(f'GRU Classification Report:\\n{report_gru}')\n"
   ]
  },
  {
   "cell_type": "markdown",
   "id": "50c0812c",
   "metadata": {
    "papermill": {
     "duration": 0.244265,
     "end_time": "2024-04-16T22:03:38.934692",
     "exception": false,
     "start_time": "2024-04-16T22:03:38.690427",
     "status": "completed"
    },
    "tags": []
   },
   "source": [
    "The LSTM and GRU models have similar performance but the LSTM might be slightly better when it comes to recall on the disaster tweets. "
   ]
  },
  {
   "cell_type": "code",
   "execution_count": 17,
   "id": "161211fd",
   "metadata": {
    "execution": {
     "iopub.execute_input": "2024-04-16T22:03:39.434912Z",
     "iopub.status.busy": "2024-04-16T22:03:39.433941Z",
     "iopub.status.idle": "2024-04-16T22:03:39.440357Z",
     "shell.execute_reply": "2024-04-16T22:03:39.439302Z"
    },
    "papermill": {
     "duration": 0.289037,
     "end_time": "2024-04-16T22:03:39.443349",
     "exception": false,
     "start_time": "2024-04-16T22:03:39.154312",
     "status": "completed"
    },
    "tags": []
   },
   "outputs": [],
   "source": [
    "# # Clean the test data. \n",
    "# test['cleaned_text'] = test['text'].apply(clean_text)\n",
    "\n",
    "# # Tokenize and pad sequences for test data.\n",
    "# test_sequences = tokenizer.texts_to_sequences(test['cleaned_text'])\n",
    "# test_data = pad_sequences(test_sequences, maxlen=100)\n",
    "\n",
    "# # Make predictions on the test data.\n",
    "# predictions_test_gru = model_gru.predict(test_data)\n",
    "\n",
    "# # Convert probabilities to binary predictions\n",
    "# test['target'] = np.round(predictions_test_gru).astype(int)\n",
    "\n",
    "# # Merge the solutions dataframe with the predictions dataframe on the 'id' column.\n",
    "# merged_df = solutions.merge(test, on='id')\n",
    "\n",
    "# # Keep only the 'id' and 'target' columns.\n",
    "# final_df = merged_df[['id', 'target_y']]\n",
    "\n",
    "# # Rename the columns to their original names.\n",
    "# final_df.columns = ['id', 'target']\n",
    "# final_df.to_csv('submission.csv', index=False)\n",
    "# print(final_df)"
   ]
  },
  {
   "cell_type": "markdown",
   "id": "ae1f825c",
   "metadata": {
    "papermill": {
     "duration": 0.218994,
     "end_time": "2024-04-16T22:03:39.878527",
     "exception": false,
     "start_time": "2024-04-16T22:03:39.659533",
     "status": "completed"
    },
    "tags": []
   },
   "source": [
    "Score after submitting = 75.911%"
   ]
  },
  {
   "cell_type": "markdown",
   "id": "ba3e9105",
   "metadata": {
    "papermill": {
     "duration": 0.211475,
     "end_time": "2024-04-16T22:03:40.303185",
     "exception": false,
     "start_time": "2024-04-16T22:03:40.091710",
     "status": "completed"
    },
    "tags": []
   },
   "source": [
    "## Hyperparameter tuning"
   ]
  },
  {
   "cell_type": "markdown",
   "id": "4e20d947",
   "metadata": {
    "papermill": {
     "duration": 0.216357,
     "end_time": "2024-04-16T22:03:40.732088",
     "exception": false,
     "start_time": "2024-04-16T22:03:40.515731",
     "status": "completed"
    },
    "tags": []
   },
   "source": [
    "I wanted to see if we get better performance if we use a dropout and recurrent dropout for our LSTM model. This will drop or set some weights to 0 within the model. "
   ]
  },
  {
   "cell_type": "code",
   "execution_count": 18,
   "id": "877cd948",
   "metadata": {
    "execution": {
     "iopub.execute_input": "2024-04-16T22:03:41.169174Z",
     "iopub.status.busy": "2024-04-16T22:03:41.168792Z",
     "iopub.status.idle": "2024-04-16T22:05:13.977073Z",
     "shell.execute_reply": "2024-04-16T22:05:13.975925Z"
    },
    "papermill": {
     "duration": 93.029833,
     "end_time": "2024-04-16T22:05:13.979965",
     "exception": false,
     "start_time": "2024-04-16T22:03:40.950132",
     "status": "completed"
    },
    "tags": []
   },
   "outputs": [
    {
     "name": "stdout",
     "output_type": "stream",
     "text": [
      "Epoch 1/10\n",
      "\u001b[1m191/191\u001b[0m \u001b[32m━━━━━━━━━━━━━━━━━━━━\u001b[0m\u001b[37m\u001b[0m \u001b[1m11s\u001b[0m 42ms/step - accuracy: 0.6017 - loss: 0.6521 - val_accuracy: 0.7886 - val_loss: 0.4692\n",
      "Epoch 2/10\n",
      "\u001b[1m191/191\u001b[0m \u001b[32m━━━━━━━━━━━━━━━━━━━━\u001b[0m\u001b[37m\u001b[0m \u001b[1m10s\u001b[0m 41ms/step - accuracy: 0.8343 - loss: 0.3930 - val_accuracy: 0.7984 - val_loss: 0.4480\n",
      "Epoch 3/10\n",
      "\u001b[1m191/191\u001b[0m \u001b[32m━━━━━━━━━━━━━━━━━━━━\u001b[0m\u001b[37m\u001b[0m \u001b[1m11s\u001b[0m 42ms/step - accuracy: 0.9001 - loss: 0.2619 - val_accuracy: 0.7827 - val_loss: 0.5013\n",
      "Epoch 4/10\n",
      "\u001b[1m191/191\u001b[0m \u001b[32m━━━━━━━━━━━━━━━━━━━━\u001b[0m\u001b[37m\u001b[0m \u001b[1m8s\u001b[0m 41ms/step - accuracy: 0.9262 - loss: 0.2044 - val_accuracy: 0.7781 - val_loss: 0.5861\n",
      "Epoch 5/10\n",
      "\u001b[1m191/191\u001b[0m \u001b[32m━━━━━━━━━━━━━━━━━━━━\u001b[0m\u001b[37m\u001b[0m \u001b[1m10s\u001b[0m 41ms/step - accuracy: 0.9509 - loss: 0.1480 - val_accuracy: 0.7761 - val_loss: 0.6261\n",
      "Epoch 6/10\n",
      "\u001b[1m191/191\u001b[0m \u001b[32m━━━━━━━━━━━━━━━━━━━━\u001b[0m\u001b[37m\u001b[0m \u001b[1m8s\u001b[0m 41ms/step - accuracy: 0.9577 - loss: 0.1235 - val_accuracy: 0.7603 - val_loss: 0.7102\n",
      "Epoch 7/10\n",
      "\u001b[1m191/191\u001b[0m \u001b[32m━━━━━━━━━━━━━━━━━━━━\u001b[0m\u001b[37m\u001b[0m \u001b[1m8s\u001b[0m 42ms/step - accuracy: 0.9669 - loss: 0.1049 - val_accuracy: 0.7564 - val_loss: 0.8096\n",
      "Epoch 8/10\n",
      "\u001b[1m191/191\u001b[0m \u001b[32m━━━━━━━━━━━━━━━━━━━━\u001b[0m\u001b[37m\u001b[0m \u001b[1m8s\u001b[0m 41ms/step - accuracy: 0.9707 - loss: 0.0920 - val_accuracy: 0.7452 - val_loss: 0.8185\n",
      "Epoch 9/10\n",
      "\u001b[1m191/191\u001b[0m \u001b[32m━━━━━━━━━━━━━━━━━━━━\u001b[0m\u001b[37m\u001b[0m \u001b[1m10s\u001b[0m 40ms/step - accuracy: 0.9708 - loss: 0.0818 - val_accuracy: 0.7439 - val_loss: 0.8713\n",
      "Epoch 10/10\n",
      "\u001b[1m191/191\u001b[0m \u001b[32m━━━━━━━━━━━━━━━━━━━━\u001b[0m\u001b[37m\u001b[0m \u001b[1m8s\u001b[0m 41ms/step - accuracy: 0.9713 - loss: 0.0829 - val_accuracy: 0.7557 - val_loss: 0.8983\n",
      "\u001b[1m48/48\u001b[0m \u001b[32m━━━━━━━━━━━━━━━━━━━━\u001b[0m\u001b[37m\u001b[0m \u001b[1m1s\u001b[0m 15ms/step\n"
     ]
    }
   ],
   "source": [
    "# Create lstm model with dropout and recurrent dropout.\n",
    "model_lstm_2 = Sequential()\n",
    "model_lstm_2.add(Embedding(input_dim=10000, output_dim=32))\n",
    "model_lstm_2.add(LSTM(32, dropout=0.2, recurrent_dropout=0.4))\n",
    "model_lstm_2.add(Dense(1, activation='sigmoid'))\n",
    "model_lstm_2.compile(loss='binary_crossentropy', optimizer='adam', metrics=['accuracy'])\n",
    "\n",
    "\n",
    "# Tokenize and pad sequences.\n",
    "tokenizer = Tokenizer(num_words=10000)\n",
    "tokenizer.fit_on_texts(train_updated['text'])\n",
    "sequences = tokenizer.texts_to_sequences(train_updated['text'])\n",
    "data = pad_sequences(sequences, maxlen=100)\n",
    "\n",
    "# Split data into training and validation sets.\n",
    "X_train, X_val, y_train, y_val = train_test_split(data, train_updated['target'], test_size=0.2, random_state=1234)\n",
    "\n",
    "\n",
    "# Train the model.\n",
    "model_lstm_2.fit(X_train, y_train, epochs=10, validation_data=(X_val, y_val))\n",
    "\n",
    "# Make predictions on the validation data.\n",
    "predictions_lstm_2 = model_lstm_2.predict(X_val)"
   ]
  },
  {
   "cell_type": "code",
   "execution_count": 19,
   "id": "707e66a6",
   "metadata": {
    "execution": {
     "iopub.execute_input": "2024-04-16T22:05:14.706388Z",
     "iopub.status.busy": "2024-04-16T22:05:14.706001Z",
     "iopub.status.idle": "2024-04-16T22:05:15.031750Z",
     "shell.execute_reply": "2024-04-16T22:05:15.030529Z"
    },
    "papermill": {
     "duration": 0.736351,
     "end_time": "2024-04-16T22:05:15.034383",
     "exception": false,
     "start_time": "2024-04-16T22:05:14.298032",
     "status": "completed"
    },
    "tags": []
   },
   "outputs": [
    {
     "data": {
      "image/png": "[encoded data removed]",
      "text/plain": [
       "<Figure size 500x500 with 2 Axes>"
      ]
     },
     "metadata": {},
     "output_type": "display_data"
    },
    {
     "name": "stdout",
     "output_type": "stream",
     "text": [
      "LSTM Classification Report:\n",
      "              precision    recall  f1-score   support\n",
      "\n",
      "           0       0.77      0.80      0.78       841\n",
      "           1       0.74      0.70      0.72       682\n",
      "\n",
      "    accuracy                           0.76      1523\n",
      "   macro avg       0.75      0.75      0.75      1523\n",
      "weighted avg       0.76      0.76      0.75      1523\n",
      "\n"
     ]
    }
   ],
   "source": [
    "# Convert probabilities to binary predictions.\n",
    "y_pred_lstm_2 = np.round(predictions_lstm_2).astype(int)\n",
    "\n",
    "# Create confusion matrices.\n",
    "cm_lstm_2 = confusion_matrix(y_val, y_pred_lstm_2)\n",
    "\n",
    "# Function to plot confusion matrix.\n",
    "def plot_cm(cm, model_name):\n",
    "    plt.figure(figsize=(5,5))\n",
    "    sns.heatmap(cm, annot=True, fmt='d', cmap='Blues')\n",
    "    plt.title(f'{model_name} Confusion Matrix')\n",
    "    plt.xlabel('Predicted Label')\n",
    "    plt.ylabel('True Label')\n",
    "    plt.show()\n",
    "\n",
    "# Plot confusion matrices.\n",
    "plot_cm(cm_lstm_2, 'LSTM')\n",
    "\n",
    "# Print classification reports.\n",
    "report_lstm = classification_report(y_val, y_pred_lstm_2)\n",
    "\n",
    "print(f'LSTM Classification Report:\\n{report_lstm}')\n",
    "\n"
   ]
  },
  {
   "cell_type": "markdown",
   "id": "4f5b60ea",
   "metadata": {
    "papermill": {
     "duration": 0.318986,
     "end_time": "2024-04-16T22:05:15.665025",
     "exception": false,
     "start_time": "2024-04-16T22:05:15.346039",
     "status": "completed"
    },
    "tags": []
   },
   "source": [
    "Simple LSTM Classification Report:\n",
    "\n",
    "              precision    recall  f1-score   support\n",
    "\n",
    "           0       0.78      0.75      0.76       841\n",
    "           1       0.71      0.73      0.72       682\n",
    "\n",
    "    accuracy                           0.74      1523\n",
    "    macro avg       0.74      0.74     0.74      1523\n",
    "    weighted avg    0.74      0.74     0.74      1523\n",
    "\n",
    "The perfomance of this model is maybe a little better when including dropout and recurrent dropout. The accuracy and recall for predicting 0 went up a few percentage points but there was not big jump in performance. Recall for calling disaster tweets went down by a couple of percentage points. \n",
    "\n",
    "I also tried adding another LSTM layer as well as dropping layers but the performance was not as good as this the above model. "
   ]
  },
  {
   "cell_type": "markdown",
   "id": "a760918d",
   "metadata": {
    "papermill": {
     "duration": 0.312116,
     "end_time": "2024-04-16T22:05:16.291006",
     "exception": false,
     "start_time": "2024-04-16T22:05:15.978890",
     "status": "completed"
    },
    "tags": []
   },
   "source": [
    "I also wanted to try to see if I could increase the performance of the GRU model. To do this, I not only added dropout and recurrent dropout but I also added another GRU layer and dropout between the GRU layers. "
   ]
  },
  {
   "cell_type": "code",
   "execution_count": 20,
   "id": "cac877cb",
   "metadata": {
    "execution": {
     "iopub.execute_input": "2024-04-16T22:05:16.930151Z",
     "iopub.status.busy": "2024-04-16T22:05:16.929763Z",
     "iopub.status.idle": "2024-04-16T22:08:41.252681Z",
     "shell.execute_reply": "2024-04-16T22:08:41.251493Z"
    },
    "papermill": {
     "duration": 204.654803,
     "end_time": "2024-04-16T22:08:41.255361",
     "exception": false,
     "start_time": "2024-04-16T22:05:16.600558",
     "status": "completed"
    },
    "tags": []
   },
   "outputs": [
    {
     "name": "stdout",
     "output_type": "stream",
     "text": [
      "Epoch 1/10\n",
      "\u001b[1m191/191\u001b[0m \u001b[32m━━━━━━━━━━━━━━━━━━━━\u001b[0m\u001b[37m\u001b[0m \u001b[1m23s\u001b[0m 96ms/step - accuracy: 0.5900 - loss: 32.1950 - val_accuracy: 0.7374 - val_loss: 0.6069\n",
      "Epoch 2/10\n",
      "\u001b[1m191/191\u001b[0m \u001b[32m━━━━━━━━━━━━━━━━━━━━\u001b[0m\u001b[37m\u001b[0m \u001b[1m20s\u001b[0m 94ms/step - accuracy: 0.8089 - loss: 0.4941 - val_accuracy: 0.7820 - val_loss: 0.4865\n",
      "Epoch 3/10\n",
      "\u001b[1m191/191\u001b[0m \u001b[32m━━━━━━━━━━━━━━━━━━━━\u001b[0m\u001b[37m\u001b[0m \u001b[1m20s\u001b[0m 94ms/step - accuracy: 0.8697 - loss: 0.3442 - val_accuracy: 0.7853 - val_loss: 0.4732\n",
      "Epoch 4/10\n",
      "\u001b[1m191/191\u001b[0m \u001b[32m━━━━━━━━━━━━━━━━━━━━\u001b[0m\u001b[37m\u001b[0m \u001b[1m18s\u001b[0m 92ms/step - accuracy: 0.9034 - loss: 0.2656 - val_accuracy: 0.7702 - val_loss: 0.4917\n",
      "Epoch 5/10\n",
      "\u001b[1m191/191\u001b[0m \u001b[32m━━━━━━━━━━━━━━━━━━━━\u001b[0m\u001b[37m\u001b[0m \u001b[1m21s\u001b[0m 95ms/step - accuracy: 0.9252 - loss: 0.2080 - val_accuracy: 0.7610 - val_loss: 0.5257\n",
      "Epoch 6/10\n",
      "\u001b[1m191/191\u001b[0m \u001b[32m━━━━━━━━━━━━━━━━━━━━\u001b[0m\u001b[37m\u001b[0m \u001b[1m20s\u001b[0m 92ms/step - accuracy: 0.9408 - loss: 0.1750 - val_accuracy: 0.7584 - val_loss: 0.5718\n",
      "Epoch 7/10\n",
      "\u001b[1m191/191\u001b[0m \u001b[32m━━━━━━━━━━━━━━━━━━━━\u001b[0m\u001b[37m\u001b[0m \u001b[1m20s\u001b[0m 92ms/step - accuracy: 0.9515 - loss: 0.1482 - val_accuracy: 0.7564 - val_loss: 0.6104\n",
      "Epoch 8/10\n",
      "\u001b[1m191/191\u001b[0m \u001b[32m━━━━━━━━━━━━━━━━━━━━\u001b[0m\u001b[37m\u001b[0m \u001b[1m18s\u001b[0m 93ms/step - accuracy: 0.9568 - loss: 0.1266 - val_accuracy: 0.7518 - val_loss: 0.6324\n",
      "Epoch 9/10\n",
      "\u001b[1m191/191\u001b[0m \u001b[32m━━━━━━━━━━━━━━━━━━━━\u001b[0m\u001b[37m\u001b[0m \u001b[1m20s\u001b[0m 91ms/step - accuracy: 0.9571 - loss: 0.1202 - val_accuracy: 0.7459 - val_loss: 0.6756\n",
      "Epoch 10/10\n",
      "\u001b[1m191/191\u001b[0m \u001b[32m━━━━━━━━━━━━━━━━━━━━\u001b[0m\u001b[37m\u001b[0m \u001b[1m21s\u001b[0m 94ms/step - accuracy: 0.9693 - loss: 0.1048 - val_accuracy: 0.7452 - val_loss: 0.7060\n",
      "\u001b[1m48/48\u001b[0m \u001b[32m━━━━━━━━━━━━━━━━━━━━\u001b[0m\u001b[37m\u001b[0m \u001b[1m2s\u001b[0m 29ms/step\n"
     ]
    }
   ],
   "source": [
    "# Create a GRU Model with multiple GRU layers and dropouts. \n",
    "model_gru_2 = Sequential()\n",
    "model_gru_2.add(Embedding(input_dim=10000, output_dim=32))\n",
    "model_gru_2.add(GRU(32, dropout=0.2, return_sequences=True, recurrent_dropout=0.4))\n",
    "model_gru_2.add(Dropout(0.2))\n",
    "model_gru_2.add(GRU(32, dropout=0.2, recurrent_dropout=0.4))\n",
    "model_gru_2.add(Dropout(0.2))\n",
    "model_gru_2.add(Dense(1, activation='sigmoid'))\n",
    "\n",
    "# Tokenize and pad sequences.\n",
    "tokenizer = Tokenizer(num_words=10000)\n",
    "tokenizer.fit_on_texts(train_updated['text'])\n",
    "sequences = tokenizer.texts_to_sequences(train_updated['text'])\n",
    "data = pad_sequences(sequences, maxlen=100)\n",
    "\n",
    "# Split data into training and validation sets.\n",
    "X_train, X_val, y_train, y_val = train_test_split(data, train_updated['target'], test_size=0.2, random_state=1234)\n",
    "\n",
    "# Compile the model.\n",
    "model_gru_2.compile(optimizer='adam', loss='binary_crossentropy', metrics=['accuracy'])\n",
    "\n",
    "# Train the model.\n",
    "model_gru_2.fit(X_train, y_train, epochs=10, validation_data=(X_val, y_val))\n",
    "\n",
    "# Make predictions on the validation data.\n",
    "predictions_gru_2 = model_gru_2.predict(X_val)\n"
   ]
  },
  {
   "cell_type": "code",
   "execution_count": 21,
   "id": "afdb9002",
   "metadata": {
    "execution": {
     "iopub.execute_input": "2024-04-16T22:08:42.275527Z",
     "iopub.status.busy": "2024-04-16T22:08:42.274785Z",
     "iopub.status.idle": "2024-04-16T22:08:42.587742Z",
     "shell.execute_reply": "2024-04-16T22:08:42.586345Z"
    },
    "papermill": {
     "duration": 0.827977,
     "end_time": "2024-04-16T22:08:42.590319",
     "exception": false,
     "start_time": "2024-04-16T22:08:41.762342",
     "status": "completed"
    },
    "tags": []
   },
   "outputs": [
    {
     "data": {
      "image/png": "[encoded data removed]",
      "text/plain": [
       "<Figure size 500x500 with 2 Axes>"
      ]
     },
     "metadata": {},
     "output_type": "display_data"
    },
    {
     "name": "stdout",
     "output_type": "stream",
     "text": [
      "GRU Classification Report:\n",
      "              precision    recall  f1-score   support\n",
      "\n",
      "           0       0.78      0.76      0.77       841\n",
      "           1       0.71      0.73      0.72       682\n",
      "\n",
      "    accuracy                           0.75      1523\n",
      "   macro avg       0.74      0.74      0.74      1523\n",
      "weighted avg       0.75      0.75      0.75      1523\n",
      "\n"
     ]
    }
   ],
   "source": [
    "# Convert probabilities to binary predictions.\n",
    "y_pred_gru_2 = np.round(predictions_gru_2).astype(int)\n",
    "\n",
    "# Create confusion matrices.\n",
    "cm_gru_2 = confusion_matrix(y_val, y_pred_gru_2)\n",
    "\n",
    "# Function to plot confusion matrix.\n",
    "def plot_cm(cm, model_name):\n",
    "    plt.figure(figsize=(5,5))\n",
    "    sns.heatmap(cm, annot=True, fmt='d', cmap='Blues')\n",
    "    plt.title(f'{model_name} Confusion Matrix')\n",
    "    plt.xlabel('Predicted Label')\n",
    "    plt.ylabel('True Label')\n",
    "    plt.show()\n",
    "\n",
    "# Plot confusion matrices.\n",
    "plot_cm(cm_gru_2, 'GRU')\n",
    "\n",
    "# Print classification reports.\n",
    "report_lstm = classification_report(y_val, y_pred_gru_2)\n",
    "\n",
    "print(f'GRU Classification Report:\\n{report_lstm}')\n"
   ]
  },
  {
   "cell_type": "markdown",
   "id": "3a41b12d",
   "metadata": {
    "papermill": {
     "duration": 0.491889,
     "end_time": "2024-04-16T22:08:43.642110",
     "exception": false,
     "start_time": "2024-04-16T22:08:43.150221",
     "status": "completed"
    },
    "tags": []
   },
   "source": [
    "Simple GRU Classification Report:\n",
    "              precision    recall  f1-score   support\n",
    "\n",
    "           0       0.76      0.77      0.77       841\n",
    "           1       0.71      0.71      0.71       682\n",
    "\n",
    "    accuracy                           0.74      1523\n",
    "    macro avg       0.74      0.74     0.74      1523\n",
    "    weighted avg    0.74      0.74     0.74      1523\n",
    "    \n",
    "    \n",
    "When adding dropouts and recurrent dropouts as well as an additional GRU layer, the performance stayed about the same if not got slightly worse.\n",
    "\n",
    "I did try different batch sizes too but they were not as good as the complex model above. "
   ]
  },
  {
   "cell_type": "markdown",
   "id": "bd2fdd55",
   "metadata": {
    "papermill": {
     "duration": 0.494509,
     "end_time": "2024-04-16T22:08:44.640584",
     "exception": false,
     "start_time": "2024-04-16T22:08:44.146075",
     "status": "completed"
    },
    "tags": []
   },
   "source": [
    "## Word2Vec\n",
    "\n",
    "Finally, I wanted to try vectorizing the tweets using Word2Vec and using those embeddings in the model. Word2Vec is comprised of some algorithms to vectorize text.\n",
    "\n",
    "By applying this vectorization to the GRU model, does it make the model perform better?"
   ]
  },
  {
   "cell_type": "code",
   "execution_count": 22,
   "id": "5c5ca5de",
   "metadata": {
    "execution": {
     "iopub.execute_input": "2024-04-16T22:08:45.698549Z",
     "iopub.status.busy": "2024-04-16T22:08:45.698169Z",
     "iopub.status.idle": "2024-04-16T22:09:17.734315Z",
     "shell.execute_reply": "2024-04-16T22:09:17.733164Z"
    },
    "papermill": {
     "duration": 32.599996,
     "end_time": "2024-04-16T22:09:17.736926",
     "exception": false,
     "start_time": "2024-04-16T22:08:45.136930",
     "status": "completed"
    },
    "tags": []
   },
   "outputs": [
    {
     "name": "stdout",
     "output_type": "stream",
     "text": [
      "14749\n",
      "Epoch 1/10\n",
      "\u001b[1m191/191\u001b[0m \u001b[32m━━━━━━━━━━━━━━━━━━━━\u001b[0m\u001b[37m\u001b[0m \u001b[1m7s\u001b[0m 21ms/step - accuracy: 0.5947 - loss: 0.6713 - val_accuracy: 0.6527 - val_loss: 0.6233\n",
      "Epoch 2/10\n",
      "\u001b[1m191/191\u001b[0m \u001b[32m━━━━━━━━━━━━━━━━━━━━\u001b[0m\u001b[37m\u001b[0m \u001b[1m4s\u001b[0m 19ms/step - accuracy: 0.7262 - loss: 0.5535 - val_accuracy: 0.7958 - val_loss: 0.4669\n",
      "Epoch 3/10\n",
      "\u001b[1m191/191\u001b[0m \u001b[32m━━━━━━━━━━━━━━━━━━━━\u001b[0m\u001b[37m\u001b[0m \u001b[1m5s\u001b[0m 19ms/step - accuracy: 0.8472 - loss: 0.3618 - val_accuracy: 0.7859 - val_loss: 0.4594\n",
      "Epoch 4/10\n",
      "\u001b[1m191/191\u001b[0m \u001b[32m━━━━━━━━━━━━━━━━━━━━\u001b[0m\u001b[37m\u001b[0m \u001b[1m4s\u001b[0m 20ms/step - accuracy: 0.8872 - loss: 0.2909 - val_accuracy: 0.7814 - val_loss: 0.4799\n",
      "Epoch 5/10\n",
      "\u001b[1m191/191\u001b[0m \u001b[32m━━━━━━━━━━━━━━━━━━━━\u001b[0m\u001b[37m\u001b[0m \u001b[1m4s\u001b[0m 19ms/step - accuracy: 0.9099 - loss: 0.2287 - val_accuracy: 0.7695 - val_loss: 0.5146\n",
      "Epoch 6/10\n",
      "\u001b[1m191/191\u001b[0m \u001b[32m━━━━━━━━━━━━━━━━━━━━\u001b[0m\u001b[37m\u001b[0m \u001b[1m4s\u001b[0m 19ms/step - accuracy: 0.9264 - loss: 0.1908 - val_accuracy: 0.7577 - val_loss: 0.5647\n",
      "Epoch 6: early stopping\n",
      "\u001b[1m48/48\u001b[0m \u001b[32m━━━━━━━━━━━━━━━━━━━━\u001b[0m\u001b[37m\u001b[0m \u001b[1m1s\u001b[0m 11ms/step\n"
     ]
    },
    {
     "data": {
      "image/png": "[encoded data removed]",
      "text/plain": [
       "<Figure size 500x500 with 2 Axes>"
      ]
     },
     "metadata": {},
     "output_type": "display_data"
    },
    {
     "name": "stdout",
     "output_type": "stream",
     "text": [
      "GRU Classification Report:\n",
      "              precision    recall  f1-score   support\n",
      "\n",
      "           0       0.79      0.77      0.78       841\n",
      "           1       0.72      0.74      0.73       682\n",
      "\n",
      "    accuracy                           0.76      1523\n",
      "   macro avg       0.76      0.76      0.76      1523\n",
      "weighted avg       0.76      0.76      0.76      1523\n",
      "\n"
     ]
    }
   ],
   "source": [
    "# Add text to a list.\n",
    "tweets = train_updated['text'].apply(str.split).tolist()\n",
    "\n",
    "# Create vectors for our tweets. \n",
    "model_word = Word2Vec(tweets, vector_size=32, window=2, min_count=1)\n",
    "model_word.save(\"word2vec.model\")\n",
    "\n",
    "# Load Word2Vec model. \n",
    "model_word = Word2Vec.load(\"word2vec.model\")\n",
    "\n",
    "# Tokenize and pad sequences.\n",
    "tokenizer = Tokenizer(num_words=5000)\n",
    "tokenizer.fit_on_texts(train_updated['text'])\n",
    "sequences = tokenizer.texts_to_sequences(train_updated['text'])\n",
    "data = pad_sequences(sequences, maxlen=32)\n",
    "print(len(tokenizer.word_index))\n",
    "\n",
    "# Create a weight matrix for words in training.\n",
    "embedding_matrix = np.zeros((len(tokenizer.word_index)+1, 32))\n",
    "\n",
    "for word, i in tokenizer.word_index.items():\n",
    "    if word in model_word.wv:\n",
    "        embedding_vector = model_word.wv[word]\n",
    "        embedding_matrix[i] = embedding_vector\n",
    "\n",
    "# Use this embedding matrix in the `Embedding` layer.\n",
    "model_gru_3 = Sequential()\n",
    "model_gru_3.add(Embedding(input_dim=len(tokenizer.word_index)+1, output_dim=32, embeddings_initializer=Constant(embedding_matrix)))\n",
    "model_gru_3.add(GRU(32, dropout=0.2, recurrent_dropout=0.4))\n",
    "model_gru_3.add(Dense(1, activation='sigmoid'))\n",
    "\n",
    "\n",
    "# Split data into training and validation sets.\n",
    "X_train, X_val, y_train, y_val = train_test_split(data, train_updated['target'], test_size=0.2, random_state=1234)\n",
    "\n",
    "# Compile the model.\n",
    "model_gru_3.compile(optimizer='adam', loss='binary_crossentropy', metrics=['accuracy'])\n",
    "\n",
    "# Define the early stopping criteria.\n",
    "early_stop = EarlyStopping(monitor='val_loss', patience=3, verbose=1)\n",
    "\n",
    "# Train the model.\n",
    "model_gru_3.fit(X_train, y_train, epochs=10, validation_data=(X_val, y_val), callbacks=[early_stop])\n",
    "\n",
    "# Make predictions on the validation data.\n",
    "predictions_gru_3 = model_gru_3.predict(X_val)\n",
    "\n",
    "# Convert probabilities to binary predictions.\n",
    "y_pred_gru_3 = np.round(predictions_gru_3).astype(int)\n",
    "\n",
    "# Create confusion matrix.\n",
    "cm_gru_3 = confusion_matrix(y_val, y_pred_gru_3)\n",
    "\n",
    "# Function to plot confusion matrix.\n",
    "def plot_cm(cm, model_name):\n",
    "    plt.figure(figsize=(5,5))\n",
    "    sns.heatmap(cm, annot=True, fmt='d', cmap='Blues')\n",
    "    plt.title(f'{model_name} Confusion Matrix')\n",
    "    plt.xlabel('Predicted Label')\n",
    "    plt.ylabel('True Label')\n",
    "    plt.show()\n",
    "\n",
    "plot_cm(cm_gru_3, 'GRU')\n",
    "\n",
    "# Print classification reports.\n",
    "report_lstm = classification_report(y_val, y_pred_gru_3)\n",
    "\n",
    "print(f'GRU Classification Report:\\n{report_lstm}')"
   ]
  },
  {
   "cell_type": "markdown",
   "id": "54c10b35",
   "metadata": {
    "papermill": {
     "duration": 0.53512,
     "end_time": "2024-04-16T22:09:18.811932",
     "exception": false,
     "start_time": "2024-04-16T22:09:18.276812",
     "status": "completed"
    },
    "tags": []
   },
   "source": [
    "Simple GRU Classification Report:\n",
    "              precision    recall  f1-score   support\n",
    "\n",
    "           0       0.76      0.77      0.77       841\n",
    "           1       0.71      0.71      0.71       682\n",
    "\n",
    "    accuracy                           0.74      1523\n",
    "    macro avg       0.74      0.74     0.74      1523\n",
    "    weighted avg    0.74      0.74     0.74      1523\n",
    "    \n",
    "    \n",
    "GRU with drop outs Classification Report:\n",
    "              precision    recall  f1-score   support\n",
    "\n",
    "           0       0.76      0.77      0.76       841\n",
    "           1       0.71      0.70      0.70       682\n",
    "\n",
    "    accuracy                           0.74      1523\n",
    "    macro avg       0.73      0.73     0.73      1523\n",
    "    weighted avg    0.74      0.74     0.74      1523\n",
    "    \n",
    "    \n",
    "    \n",
    "The model using Word2Vec maybe does slightly better than the other two models. It has better precision but slightly less recall when looking at non-disaster tweets when compared to the other two models. It does have the best recall for disaster tweets when compared to the other models and about the same precision for disaster tweets. "
   ]
  },
  {
   "cell_type": "code",
   "execution_count": 23,
   "id": "7490ec63",
   "metadata": {
    "execution": {
     "iopub.execute_input": "2024-04-16T22:09:19.962195Z",
     "iopub.status.busy": "2024-04-16T22:09:19.961278Z",
     "iopub.status.idle": "2024-04-16T22:09:22.063827Z",
     "shell.execute_reply": "2024-04-16T22:09:22.061961Z"
    },
    "papermill": {
     "duration": 2.712305,
     "end_time": "2024-04-16T22:09:22.066454",
     "exception": false,
     "start_time": "2024-04-16T22:09:19.354149",
     "status": "completed"
    },
    "tags": []
   },
   "outputs": [
    {
     "name": "stdout",
     "output_type": "stream",
     "text": [
      "\u001b[1m102/102\u001b[0m \u001b[32m━━━━━━━━━━━━━━━━━━━━\u001b[0m\u001b[37m\u001b[0m \u001b[1m0s\u001b[0m 4ms/step\n",
      "         id  target\n",
      "0         0       0\n",
      "1         2       1\n",
      "2         3       1\n",
      "3         9       1\n",
      "4        11       1\n",
      "...     ...     ...\n",
      "3258  10861       0\n",
      "3259  10865       1\n",
      "3260  10868       1\n",
      "3261  10874       1\n",
      "3262  10875       1\n",
      "\n",
      "[3263 rows x 2 columns]\n"
     ]
    }
   ],
   "source": [
    "# Clean the test data. \n",
    "test['cleaned_text'] = test['text'].apply(clean_text)\n",
    "test_tweets = test['cleaned_text'].apply(str.split).tolist()\n",
    "\n",
    "# Tokenize and pad sequences for test data.\n",
    "test_sequences = tokenizer.texts_to_sequences(test_tweets)\n",
    "test_data = pad_sequences(test_sequences, maxlen=32)\n",
    "\n",
    "# Make predictions on the test data.\n",
    "predictions_test_gru = model_gru_3.predict(test_data)\n",
    "\n",
    "# Convert probabilities to binary predictions\n",
    "test['target'] = np.round(predictions_test_gru).astype(int)\n",
    "\n",
    "# Merge the solutions dataframe with the predictions dataframe on the 'id' column.\n",
    "merged_df = solutions.merge(test, on='id')\n",
    "\n",
    "# Keep only the 'id' and 'target' columns.\n",
    "final_df = merged_df[['id', 'target_y']]\n",
    "\n",
    "# Rename the columns to their original names.\n",
    "final_df.columns = ['id', 'target']\n",
    "final_df.to_csv('submission.csv', index=False)\n",
    "print(final_df)"
   ]
  },
  {
   "cell_type": "markdown",
   "id": "f0c270c1",
   "metadata": {
    "papermill": {
     "duration": 0.540558,
     "end_time": "2024-04-16T22:09:23.146072",
     "exception": false,
     "start_time": "2024-04-16T22:09:22.605514",
     "status": "completed"
    },
    "tags": []
   },
   "source": [
    "Score after submitting = 76.432%"
   ]
  },
  {
   "cell_type": "markdown",
   "id": "574c8a39",
   "metadata": {
    "papermill": {
     "duration": 0.607508,
     "end_time": "2024-04-16T22:09:24.288776",
     "exception": false,
     "start_time": "2024-04-16T22:09:23.681268",
     "status": "completed"
    },
    "tags": []
   },
   "source": [
    "# Conclusion\n",
    "\n",
    "### Overview\n",
    "\n",
    "The GRU model with the Words2Vec embeddings gave the best performance of all of the models tested in this notebook. When looking at the validation tests, the GRU model with the Words2Vec was one of the highest precision and recalls for both non-disaster tweets. Following that both the more complex GRU and LSTM models did better than the simple models tended to predict not a disaster when there really was a disaster. \n",
    "\n",
    "Finally, the GRU model with the Words2Vec embeddings gave the best submission score with a 76.432% when compared to the simple LSTM model which got a 75.911%. Given how close the models are, the LSTM model might be the one you choose for the models tested in this notebook. It is a simpler model and took less time to run but gave almost the same score for the submission.csv. \n",
    "\n",
    "\n",
    "### Addtional testing\n",
    "\n",
    "If time persisted, there are some other things that I would try. Even though I tried a few different batches, I would try a few more. I also think using different embeddings could be interesting and improve performance. Using something like BERT might bring in better embeddings for the weights. Also, trying different combinations of the model layers could increase performance (Ex: LSTM layer + LSTM layer + sigmoid). Finally, we could look at the text more and see if there were any abbreviations or text that does not make sense. This would give the model more words and might lead to better predictions. "
   ]
  },
  {
   "cell_type": "markdown",
   "id": "a1cab50c",
   "metadata": {
    "papermill": {
     "duration": 0.534128,
     "end_time": "2024-04-16T22:09:25.353056",
     "exception": false,
     "start_time": "2024-04-16T22:09:24.818928",
     "status": "completed"
    },
    "tags": []
   },
   "source": [
    "# References\n",
    "\n",
    "Tensorflow\n",
    "\n",
    "https://www.tensorflow.org/api_docs/python/tf/keras/layers/LSTM\n",
    "\n",
    "https://www.tensorflow.org/api_docs/python/tf/keras/layers/GRU\n",
    "\n",
    "https://radimrehurek.com/gensim/models/word2vec.html\n",
    "\n",
    "https://www.tensorflow.org/text/guide/word_embeddings\n",
    "\n",
    "https://www.tensorflow.org/text/guide/tokenizers\n",
    "\n",
    "https://www.tensorflow.org/text/tutorials/text_classification_rnn\n",
    "\n",
    "Kaggle\n",
    "\n",
    "https://www.kaggle.com/code/zinebkhanjari/disaster-tweets-multiple-vectorizers-and-models#Models\n",
    "\n",
    "https://www.kaggle.com/code/sandhyakrishnan02/nlp-with-disaster-tweets-using-lstm"
   ]
  },
  {
   "cell_type": "code",
   "execution_count": null,
   "id": "354bb351",
   "metadata": {
    "papermill": {
     "duration": 0.532659,
     "end_time": "2024-04-16T22:09:26.419973",
     "exception": false,
     "start_time": "2024-04-16T22:09:25.887314",
     "status": "completed"
    },
    "tags": []
   },
   "outputs": [],
   "source": []
  }
 ],
 "metadata": {
  "kaggle": {
   "accelerator": "none",
   "dataSources": [
    {
     "databundleVersionId": 869809,
     "sourceId": 17777,
     "sourceType": "competition"
    }
   ],
   "dockerImageVersionId": 30684,
   "isGpuEnabled": false,
   "isInternetEnabled": true,
   "language": "python",
   "sourceType": "notebook"
  },
  "kernelspec": {
   "display_name": "Python 3",
   "language": "python",
   "name": "python3"
  },
  "language_info": {
   "codemirror_mode": {
    "name": "ipython",
    "version": 3
   },
   "file_extension": ".py",
   "mimetype": "text/x-python",
   "name": "python",
   "nbconvert_exporter": "python",
   "pygments_lexer": "ipython3",
   "version": "3.10.13"
  },
  "papermill": {
   "default_parameters": {},
   "duration": 592.736323,
   "end_time": "2024-04-16T22:09:30.207653",
   "environment_variables": {},
   "exception": null,
   "input_path": "__notebook__.ipynb",
   "output_path": "__notebook__.ipynb",
   "parameters": {},
   "start_time": "2024-04-16T21:59:37.471330",
   "version": "2.5.0"
  }
 },
 "nbformat": 4,
 "nbformat_minor": 5
}
